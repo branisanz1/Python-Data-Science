{
 "cells": [
  {
   "cell_type": "markdown",
   "metadata": {},
   "source": [
    "# Projet : Manipulation des données avec Pandas"
   ]
  },
  {
   "cell_type": "markdown",
   "metadata": {},
   "source": [
    "Pandas est une librairie Python spécialisée dans l’analyse des données qui a beaucoup de succès. Dans ce projet pratique, nous nous intéresserons surtout aux fonctionnalités de manipulations de données qu’elle propose. Un objet de type \"DataFrame\" (tableau de données), permet de réaliser de nombreuses opérations de pré-traitements, de filtrage, de nettoyage, de construction de nouvelles variables à partir des existentes, etc.,... préalables à la modélisation statistique.\n",
    "\n",
    "La librairie est très largement documentée. Il faut prendre le temps de consulter le Help et de s'exercer simplement ! Deux liens du Help sont incontournables, celui relative aux DataFrame (http://pandas.pydata.org/pandas-docs/stable/generated/pandas.DataFrame.html#pandas.DataFrame), celui relative aux Series que nous travaillerons également dessus (vecteur de données : http://pandas.pydata.org/pandas-docs/stable/generated/pandas.Series.html#pandas.Series)."
   ]
  },
  {
   "cell_type": "markdown",
   "metadata": {},
   "source": [
    "# Librairie Pandas - Options et version\n",
    "\n",
    "Il faut charger la librairie et, éventuellement, la configurer selon vos attentes. Pensez à vérifier votre version, elle doit être (non seulement la même sur tous les postes mais aussi la plus récente)."
   ]
  },
  {
   "cell_type": "code",
   "execution_count": 2,
   "metadata": {
    "scrolled": true
   },
   "outputs": [
    {
     "name": "stdout",
     "output_type": "stream",
     "text": [
      "\n",
      "INSTALLED VERSIONS\n",
      "------------------\n",
      "commit           : 2a7d3326dee660824a8433ffd01065f8ac37f7d6\n",
      "python           : 3.8.5.final.0\n",
      "python-bits      : 64\n",
      "OS               : Darwin\n",
      "OS-release       : 19.0.0\n",
      "Version          : Darwin Kernel Version 19.0.0: Wed Sep 25 20:18:50 PDT 2019; root:xnu-6153.11.26~2/RELEASE_X86_64\n",
      "machine          : x86_64\n",
      "processor        : i386\n",
      "byteorder        : little\n",
      "LC_ALL           : None\n",
      "LANG             : fr_FR.UTF-8\n",
      "LOCALE           : fr_FR.UTF-8\n",
      "\n",
      "pandas           : 1.1.2\n",
      "numpy            : 1.19.2\n",
      "pytz             : 2020.1\n",
      "dateutil         : 2.8.1\n",
      "pip              : 20.1.1\n",
      "setuptools       : 49.2.0\n",
      "Cython           : None\n",
      "pytest           : None\n",
      "hypothesis       : None\n",
      "sphinx           : None\n",
      "blosc            : None\n",
      "feather          : None\n",
      "xlsxwriter       : None\n",
      "lxml.etree       : None\n",
      "html5lib         : None\n",
      "pymysql          : None\n",
      "psycopg2         : None\n",
      "jinja2           : 2.11.2\n",
      "IPython          : 7.18.1\n",
      "pandas_datareader: None\n",
      "bs4              : None\n",
      "bottleneck       : None\n",
      "fsspec           : None\n",
      "fastparquet      : None\n",
      "gcsfs            : None\n",
      "matplotlib       : None\n",
      "numexpr          : None\n",
      "odfpy            : None\n",
      "openpyxl         : None\n",
      "pandas_gbq       : None\n",
      "pyarrow          : None\n",
      "pytables         : None\n",
      "pyxlsb           : None\n",
      "s3fs             : None\n",
      "scipy            : None\n",
      "sqlalchemy       : None\n",
      "tables           : None\n",
      "tabulate         : None\n",
      "xarray           : None\n",
      "xlrd             : None\n",
      "xlwt             : None\n",
      "numba            : None\n"
     ]
    },
    {
     "data": {
      "text/plain": [
       "20"
      ]
     },
     "execution_count": 2,
     "metadata": {},
     "output_type": "execute_result"
    }
   ],
   "source": [
    "# BRANIS AINOUZ\n",
    "# LORY LETICEE\n",
    "# FAYCAL BORDJAH\n",
    "# MOUNIA LYAF\n",
    "# EISI 21.3\n",
    "\n",
    "# 1è étape : il faut charger Pandas\n",
    "# R : \n",
    "import pandas as pd\n",
    "import numpy as np\n",
    "\n",
    "# Vérifiez sa version ? \n",
    "# R :\n",
    "pd.show_versions()\n",
    "\n",
    "# Quelle est la dernière version et MAJ la votre en ligne de commande (au cas où Pandas n'est pas la + récente) ? \n",
    "# R : la derniere version de pandas est la 1.1.2\n",
    "\n",
    "# Rappelez les commandes qui permettent d'installer, MAJ, utiliser 1version moins récente et désinstaller 1lib ?   \n",
    "# Reponses : \n",
    "# Install : pip install pandas\n",
    "# Upgrade : pip install --upgrade pandas\n",
    "# Uninstall : pip uninstall pandas\n",
    "# Other Versions : pip install pandas==0.19.2\n",
    "\n",
    "# Modifiez le nb de lignes à afficher dans les print à 10. L'idée est d'éviter que le projet se résume \n",
    "# à de multiples affichages de longs tableaux ! \n",
    "# R :\n",
    "pd.options.display.max_rows = 10\n",
    "\n",
    "# Modifiez le nb de colonnes à afficher dans les print à 10. L'idée est d'éviter que la console soit rapidement encombrée \n",
    "# par un grand nombre de col ! \n",
    "# R :\n",
    "pd.options.display.max_columns = 20\n",
    "\n",
    "# Malgré le fait que ns avons fixé 1petit nb de col à afficher (à 10), les résultats peuvent être tronqués ds la console !\n",
    "# En d'autres termes, l'idée est d'améliorer l'affichage ds la console en évitant un retour à la ligne (Spyder, Pyzo, nootebook,..).\n",
    "# Activez l'option nécessaire à ce besoin ? \n",
    "# R :  \n",
    "pd.set_option('display.max_colwidth', None)\n",
    "# Possible d'utiliser egalement pd.options.display.max_columns = None\n",
    "pd.options.display.max_columns"
   ]
  },
  {
   "cell_type": "raw",
   "metadata": {},
   "source": [
    "Après avoir réussi ces dernieres manip, créez 1script (startup.py) avec ces diff commandes et indiquez son path à comme PYTHON_STARTUP.\n",
    "L'idée est qu'à chaque lancement de Python, vos différents imports et options soient activées automatiquement !"
   ]
  },
  {
   "cell_type": "markdown",
   "metadata": {
    "collapsed": true
   },
   "source": [
    "# Chargement, structure DataFrame et description des données"
   ]
  },
  {
   "cell_type": "raw",
   "metadata": {},
   "source": [
    "1DataFrame correspond à 1tableau (lignes x cols) que je noterai à partir de maintenant \"df\".\n",
    "Concernant notre fichier \"sante.txt\" :\n",
    "La 1è ligne correspond aux noms des vars. A partir de la 2è ligne, ns disposons des valeurs pr chaque enregistrement (individu). \n",
    "Le caractère tabulation \"\\t\" fait office de séparateur de cols.\n",
    "Ns allons vérifier tt ça ds 1 1er tps en lignes de commandes Linux et ds un 2sd temps sur Python."
   ]
  },
  {
   "cell_type": "raw",
   "metadata": {},
   "source": [
    "En ligne de commande Linux : \n",
    "\n",
    "1) Créez 1répertoire \"data\" (où vs stockerez d'1façon permanente ts les objets que ns travaillerons dessus).\n",
    "2) Télécharez à partir du google-drive-datartisan le fichier \"sante.txt\" (secteur de la sante).\n",
    "# R :\n",
    "mkdir data\n",
    "\n",
    "Dans le terminal linux (et non ds 1éditeur de texte), déterminez : \n",
    "3) la taille du fichier, le nombre de lignes et affichez les 5 1è (lignes). \n",
    "# L'idée est d'avoir un aperçu du fichier ET surtout de déterminer : \n",
    "# Le fait s'il tiens en mémoire (données massives ou non),\n",
    "# Le type de séparateur (tabulation, virgule, pipe,...),\n",
    "# La présence ou non des noms des vars. \n",
    "# Le tout pour préparer la commande Python de création de df (à partir de ce fichier) ! \n",
    "# R : \n",
    "Taille du fichier : du -h data/sante.txt\n",
    "Nb de ligne : wc -l data/sante.txt\n",
    "Affichez les 5 premiere ligne : head -n 5 data/sante.txt"
   ]
  },
  {
   "cell_type": "code",
   "execution_count": 50,
   "metadata": {},
   "outputs": [
    {
     "name": "stdout",
     "output_type": "stream",
     "text": [
      "mkdir: data: File exists\r\n"
     ]
    }
   ],
   "source": [
    "# Refaites ces diff manip strictement à l'aide de commandes Python : création de rép \"data\", téléchargement du fichier,... ?\n",
    "# R : indice import os, open()\n",
    "!mkdir data\n",
    "\n",
    "# Revenez sur le script \"startup.py\" et y mettre les commandes qui vs permettent de : \n",
    "# Créer le rép \"data\" (s'il n'existe pas) ?\n",
    "# Se positinner dessus automatiquement (à chaque démarrage).\n",
    "# R :"
   ]
  },
  {
   "cell_type": "code",
   "execution_count": 47,
   "metadata": {},
   "outputs": [
    {
     "data": {
      "text/plain": [
       "pandas.core.frame.DataFrame"
      ]
     },
     "execution_count": 47,
     "metadata": {},
     "output_type": "execute_result"
    }
   ],
   "source": [
    "# Chargez le fichier en tant qu'objet DataFrame (nom = df_sante) \n",
    "# R : \n",
    "path = \"data/sante.txt\"\n",
    "dt = pd.read_csv(path, sep='\\t', low_memory=False)\n",
    "# Vérifiez que le type obtenu est bien un 'pandas.core.frame.DataFrame'\n",
    "# R : \n",
    "type(dt)\n"
   ]
  },
  {
   "cell_type": "raw",
   "metadata": {},
   "source": [
    "Le type DataFrame est bien reconnu. Voyons maintenant sa structure.\n",
    "Faire un print(df) où vs vérifiez à l'oeil nu, dans la console, ligne par ligne la structure du df n'a pas de sens (contexte Big Data) !\n",
    "Croyez moi, ça ne va pas vs faire avancer (inversement, au bon entendeur !). \n",
    "Ns préferons alors déterminer la dimension du df, afficher un bout des 1ères et dernières lignes (et comparer avec les résultats déjà obtenu avec le fichier \".txt\").  "
   ]
  },
  {
   "cell_type": "code",
   "execution_count": 5,
   "metadata": {},
   "outputs": [
    {
     "data": {
      "text/plain": [
       "(270, 11)"
      ]
     },
     "execution_count": 5,
     "metadata": {},
     "output_type": "execute_result"
    }
   ],
   "source": [
    "# Déterminez les dimensions : nb de lignes et nb de colonnes ? \n",
    "# R : \n",
    "dt.shape\n",
    "# Vérifier que ce sont les bonnes dimensions avec le fichier \".txt\"\n",
    "# Rq : la ligne d'en-tête n'est pas comptabilisée dans le nombre de lignes ! "
   ]
  },
  {
   "cell_type": "code",
   "execution_count": 6,
   "metadata": {},
   "outputs": [
    {
     "data": {
      "text/html": [
       "<div>\n",
       "<style scoped>\n",
       "    .dataframe tbody tr th:only-of-type {\n",
       "        vertical-align: middle;\n",
       "    }\n",
       "\n",
       "    .dataframe tbody tr th {\n",
       "        vertical-align: top;\n",
       "    }\n",
       "\n",
       "    .dataframe thead th {\n",
       "        text-align: right;\n",
       "    }\n",
       "</style>\n",
       "<table border=\"1\" class=\"dataframe\">\n",
       "  <thead>\n",
       "    <tr style=\"text-align: right;\">\n",
       "      <th></th>\n",
       "      <th>age</th>\n",
       "      <th>sexe</th>\n",
       "      <th>typedouleur</th>\n",
       "      <th>sucre</th>\n",
       "      <th>tauxmax</th>\n",
       "      <th>angine</th>\n",
       "      <th>depression</th>\n",
       "      <th>coeur col9</th>\n",
       "      <th>col10</th>\n",
       "      <th>col11</th>\n",
       "      <th>col13</th>\n",
       "    </tr>\n",
       "  </thead>\n",
       "  <tbody>\n",
       "    <tr>\n",
       "      <th>0</th>\n",
       "      <td>70</td>\n",
       "      <td>masculin</td>\n",
       "      <td>D</td>\n",
       "      <td>A</td>\n",
       "      <td>109</td>\n",
       "      <td>non</td>\n",
       "      <td>24</td>\n",
       "      <td>presence</td>\n",
       "      <td>NaN</td>\n",
       "      <td>NaN</td>\n",
       "      <td>NaN</td>\n",
       "    </tr>\n",
       "    <tr>\n",
       "      <th>1</th>\n",
       "      <td>67</td>\n",
       "      <td>feminin</td>\n",
       "      <td>C</td>\n",
       "      <td>A</td>\n",
       "      <td>160</td>\n",
       "      <td>non</td>\n",
       "      <td>16</td>\n",
       "      <td>absence</td>\n",
       "      <td>NaN</td>\n",
       "      <td>NaN</td>\n",
       "      <td>NaN</td>\n",
       "    </tr>\n",
       "    <tr>\n",
       "      <th>2</th>\n",
       "      <td>57</td>\n",
       "      <td>masculin</td>\n",
       "      <td>B</td>\n",
       "      <td>A</td>\n",
       "      <td>141</td>\n",
       "      <td>non</td>\n",
       "      <td>3</td>\n",
       "      <td>presence</td>\n",
       "      <td>NaN</td>\n",
       "      <td>NaN</td>\n",
       "      <td>NaN</td>\n",
       "    </tr>\n",
       "    <tr>\n",
       "      <th>3</th>\n",
       "      <td>64</td>\n",
       "      <td>masculin</td>\n",
       "      <td>D</td>\n",
       "      <td>A</td>\n",
       "      <td>105</td>\n",
       "      <td>oui</td>\n",
       "      <td>2</td>\n",
       "      <td>absence</td>\n",
       "      <td>NaN</td>\n",
       "      <td>NaN</td>\n",
       "      <td>NaN</td>\n",
       "    </tr>\n",
       "    <tr>\n",
       "      <th>4</th>\n",
       "      <td>74</td>\n",
       "      <td>feminin</td>\n",
       "      <td>B</td>\n",
       "      <td>A</td>\n",
       "      <td>121</td>\n",
       "      <td>oui</td>\n",
       "      <td>2</td>\n",
       "      <td>absence</td>\n",
       "      <td>NaN</td>\n",
       "      <td>NaN</td>\n",
       "      <td>NaN</td>\n",
       "    </tr>\n",
       "  </tbody>\n",
       "</table>\n",
       "</div>"
      ],
      "text/plain": [
       "   age      sexe typedouleur sucre  tauxmax angine  depression coeur col9  \\\n",
       "0   70  masculin           D     A      109    non          24   presence   \n",
       "1   67   feminin           C     A      160    non          16    absence   \n",
       "2   57  masculin           B     A      141    non           3   presence   \n",
       "3   64  masculin           D     A      105    oui           2    absence   \n",
       "4   74   feminin           B     A      121    oui           2    absence   \n",
       "\n",
       "   col10  col11  col13  \n",
       "0    NaN    NaN    NaN  \n",
       "1    NaN    NaN    NaN  \n",
       "2    NaN    NaN    NaN  \n",
       "3    NaN    NaN    NaN  \n",
       "4    NaN    NaN    NaN  "
      ]
     },
     "execution_count": 6,
     "metadata": {},
     "output_type": "execute_result"
    }
   ],
   "source": [
    "# Affichez les premières lignes du jeu de données ? \n",
    "# R : \n",
    "dt.head()"
   ]
  },
  {
   "cell_type": "code",
   "execution_count": 45,
   "metadata": {
    "scrolled": true
   },
   "outputs": [
    {
     "data": {
      "text/html": [
       "<div>\n",
       "<style scoped>\n",
       "    .dataframe tbody tr th:only-of-type {\n",
       "        vertical-align: middle;\n",
       "    }\n",
       "\n",
       "    .dataframe tbody tr th {\n",
       "        vertical-align: top;\n",
       "    }\n",
       "\n",
       "    .dataframe thead th {\n",
       "        text-align: right;\n",
       "    }\n",
       "</style>\n",
       "<table border=\"1\" class=\"dataframe\">\n",
       "  <thead>\n",
       "    <tr style=\"text-align: right;\">\n",
       "      <th></th>\n",
       "      <th>age</th>\n",
       "      <th>sexe</th>\n",
       "      <th>typedouleur</th>\n",
       "      <th>sucre</th>\n",
       "      <th>tauxmax</th>\n",
       "      <th>angine</th>\n",
       "      <th>depression</th>\n",
       "      <th>coeur col9</th>\n",
       "      <th>col10</th>\n",
       "      <th>col11</th>\n",
       "      <th>col13</th>\n",
       "    </tr>\n",
       "  </thead>\n",
       "  <tbody>\n",
       "    <tr>\n",
       "      <th>265</th>\n",
       "      <td>52</td>\n",
       "      <td>masculin</td>\n",
       "      <td>C</td>\n",
       "      <td>B</td>\n",
       "      <td>162</td>\n",
       "      <td>non</td>\n",
       "      <td>5</td>\n",
       "      <td>absence</td>\n",
       "      <td>NaN</td>\n",
       "      <td>NaN</td>\n",
       "      <td>NaN</td>\n",
       "    </tr>\n",
       "    <tr>\n",
       "      <th>266</th>\n",
       "      <td>44</td>\n",
       "      <td>masculin</td>\n",
       "      <td>B</td>\n",
       "      <td>A</td>\n",
       "      <td>173</td>\n",
       "      <td>non</td>\n",
       "      <td>0</td>\n",
       "      <td>absence</td>\n",
       "      <td>NaN</td>\n",
       "      <td>NaN</td>\n",
       "      <td>NaN</td>\n",
       "    </tr>\n",
       "    <tr>\n",
       "      <th>267</th>\n",
       "      <td>56</td>\n",
       "      <td>feminin</td>\n",
       "      <td>B</td>\n",
       "      <td>A</td>\n",
       "      <td>153</td>\n",
       "      <td>non</td>\n",
       "      <td>13</td>\n",
       "      <td>absence</td>\n",
       "      <td>NaN</td>\n",
       "      <td>NaN</td>\n",
       "      <td>NaN</td>\n",
       "    </tr>\n",
       "    <tr>\n",
       "      <th>268</th>\n",
       "      <td>57</td>\n",
       "      <td>masculin</td>\n",
       "      <td>D</td>\n",
       "      <td>A</td>\n",
       "      <td>148</td>\n",
       "      <td>non</td>\n",
       "      <td>4</td>\n",
       "      <td>absence</td>\n",
       "      <td>NaN</td>\n",
       "      <td>NaN</td>\n",
       "      <td>NaN</td>\n",
       "    </tr>\n",
       "    <tr>\n",
       "      <th>269</th>\n",
       "      <td>67</td>\n",
       "      <td>masculin</td>\n",
       "      <td>D</td>\n",
       "      <td>A</td>\n",
       "      <td>108</td>\n",
       "      <td>oui</td>\n",
       "      <td>15</td>\n",
       "      <td>presence</td>\n",
       "      <td>NaN</td>\n",
       "      <td>NaN</td>\n",
       "      <td>NaN</td>\n",
       "    </tr>\n",
       "  </tbody>\n",
       "</table>\n",
       "</div>"
      ],
      "text/plain": [
       "     age      sexe typedouleur sucre  tauxmax angine  depression coeur col9  \\\n",
       "265   52  masculin           C     B      162    non           5    absence   \n",
       "266   44  masculin           B     A      173    non           0    absence   \n",
       "267   56   feminin           B     A      153    non          13    absence   \n",
       "268   57  masculin           D     A      148    non           4    absence   \n",
       "269   67  masculin           D     A      108    oui          15   presence   \n",
       "\n",
       "     col10  col11  col13  \n",
       "265    NaN    NaN    NaN  \n",
       "266    NaN    NaN    NaN  \n",
       "267    NaN    NaN    NaN  \n",
       "268    NaN    NaN    NaN  \n",
       "269    NaN    NaN    NaN  "
      ]
     },
     "execution_count": 45,
     "metadata": {},
     "output_type": "execute_result"
    }
   ],
   "source": [
    "# Affichez les dernières lignes du jeu de données ? \n",
    "# R : \n",
    "dt.tail()"
   ]
  },
  {
   "cell_type": "raw",
   "metadata": {},
   "source": [
    "Nous passons beaucoup de notre temps à charger des df et à afficher le head (tail) pour vérifier que tt est OK ! \n",
    "Il vaut mieux en faire de ça 1fonc 1fois pr tte que vs appelez au besoin ? "
   ]
  },
  {
   "cell_type": "code",
   "execution_count": 36,
   "metadata": {},
   "outputs": [
    {
     "data": {
      "text/html": [
       "<div>\n",
       "<style scoped>\n",
       "    .dataframe tbody tr th:only-of-type {\n",
       "        vertical-align: middle;\n",
       "    }\n",
       "\n",
       "    .dataframe tbody tr th {\n",
       "        vertical-align: top;\n",
       "    }\n",
       "\n",
       "    .dataframe thead th {\n",
       "        text-align: right;\n",
       "    }\n",
       "</style>\n",
       "<table border=\"1\" class=\"dataframe\">\n",
       "  <thead>\n",
       "    <tr style=\"text-align: right;\">\n",
       "      <th></th>\n",
       "      <th>age</th>\n",
       "      <th>sexe</th>\n",
       "      <th>typedouleur</th>\n",
       "      <th>sucre</th>\n",
       "      <th>tauxmax</th>\n",
       "      <th>angine</th>\n",
       "      <th>depression</th>\n",
       "      <th>coeur col9</th>\n",
       "      <th>col10</th>\n",
       "      <th>col11</th>\n",
       "      <th>col13</th>\n",
       "    </tr>\n",
       "  </thead>\n",
       "  <tbody>\n",
       "    <tr>\n",
       "      <th>0</th>\n",
       "      <td>70</td>\n",
       "      <td>masculin</td>\n",
       "      <td>D</td>\n",
       "      <td>A</td>\n",
       "      <td>109</td>\n",
       "      <td>non</td>\n",
       "      <td>24</td>\n",
       "      <td>presence</td>\n",
       "      <td>NaN</td>\n",
       "      <td>NaN</td>\n",
       "      <td>NaN</td>\n",
       "    </tr>\n",
       "    <tr>\n",
       "      <th>1</th>\n",
       "      <td>67</td>\n",
       "      <td>feminin</td>\n",
       "      <td>C</td>\n",
       "      <td>A</td>\n",
       "      <td>160</td>\n",
       "      <td>non</td>\n",
       "      <td>16</td>\n",
       "      <td>absence</td>\n",
       "      <td>NaN</td>\n",
       "      <td>NaN</td>\n",
       "      <td>NaN</td>\n",
       "    </tr>\n",
       "    <tr>\n",
       "      <th>2</th>\n",
       "      <td>57</td>\n",
       "      <td>masculin</td>\n",
       "      <td>B</td>\n",
       "      <td>A</td>\n",
       "      <td>141</td>\n",
       "      <td>non</td>\n",
       "      <td>3</td>\n",
       "      <td>presence</td>\n",
       "      <td>NaN</td>\n",
       "      <td>NaN</td>\n",
       "      <td>NaN</td>\n",
       "    </tr>\n",
       "    <tr>\n",
       "      <th>3</th>\n",
       "      <td>64</td>\n",
       "      <td>masculin</td>\n",
       "      <td>D</td>\n",
       "      <td>A</td>\n",
       "      <td>105</td>\n",
       "      <td>oui</td>\n",
       "      <td>2</td>\n",
       "      <td>absence</td>\n",
       "      <td>NaN</td>\n",
       "      <td>NaN</td>\n",
       "      <td>NaN</td>\n",
       "    </tr>\n",
       "    <tr>\n",
       "      <th>4</th>\n",
       "      <td>74</td>\n",
       "      <td>feminin</td>\n",
       "      <td>B</td>\n",
       "      <td>A</td>\n",
       "      <td>121</td>\n",
       "      <td>oui</td>\n",
       "      <td>2</td>\n",
       "      <td>absence</td>\n",
       "      <td>NaN</td>\n",
       "      <td>NaN</td>\n",
       "      <td>NaN</td>\n",
       "    </tr>\n",
       "  </tbody>\n",
       "</table>\n",
       "</div>"
      ],
      "text/plain": [
       "   age      sexe typedouleur sucre  tauxmax angine  depression coeur col9  \\\n",
       "0   70  masculin           D     A      109    non          24   presence   \n",
       "1   67   feminin           C     A      160    non          16    absence   \n",
       "2   57  masculin           B     A      141    non           3   presence   \n",
       "3   64  masculin           D     A      105    oui           2    absence   \n",
       "4   74   feminin           B     A      121    oui           2    absence   \n",
       "\n",
       "   col10  col11  col13  \n",
       "0    NaN    NaN    NaN  \n",
       "1    NaN    NaN    NaN  \n",
       "2    NaN    NaN    NaN  \n",
       "3    NaN    NaN    NaN  \n",
       "4    NaN    NaN    NaN  "
      ]
     },
     "execution_count": 36,
     "metadata": {},
     "output_type": "execute_result"
    }
   ],
   "source": [
    "# Ecrivez cette fonc où vs géréz les exceptions (contexte script en production) ? \n",
    "# R : \n",
    "def loadDataFrames(path):\n",
    "    try:\n",
    "        dt = pd.read_csv(path, sep='\\t', low_memory=False)\n",
    "        return dt.head()\n",
    "\n",
    "    except FileNotFoundError as e:\n",
    "        print(e)\n",
    "\n",
    "path = \"data/sante.txt\"\n",
    "loadDataFrames(path)  \n"
   ]
  },
  {
   "cell_type": "code",
   "execution_count": 37,
   "metadata": {},
   "outputs": [
    {
     "data": {
      "text/html": [
       "<div>\n",
       "<style scoped>\n",
       "    .dataframe tbody tr th:only-of-type {\n",
       "        vertical-align: middle;\n",
       "    }\n",
       "\n",
       "    .dataframe tbody tr th {\n",
       "        vertical-align: top;\n",
       "    }\n",
       "\n",
       "    .dataframe thead th {\n",
       "        text-align: right;\n",
       "    }\n",
       "</style>\n",
       "<table border=\"1\" class=\"dataframe\">\n",
       "  <thead>\n",
       "    <tr style=\"text-align: right;\">\n",
       "      <th></th>\n",
       "      <th>age</th>\n",
       "      <th>sexe</th>\n",
       "      <th>typedouleur</th>\n",
       "      <th>sucre</th>\n",
       "      <th>tauxmax</th>\n",
       "      <th>angine</th>\n",
       "      <th>depression</th>\n",
       "      <th>coeur col9</th>\n",
       "      <th>col10</th>\n",
       "      <th>col11</th>\n",
       "      <th>col13</th>\n",
       "    </tr>\n",
       "  </thead>\n",
       "  <tbody>\n",
       "    <tr>\n",
       "      <th>0</th>\n",
       "      <td>70</td>\n",
       "      <td>masculin</td>\n",
       "      <td>D</td>\n",
       "      <td>A</td>\n",
       "      <td>109</td>\n",
       "      <td>non</td>\n",
       "      <td>24</td>\n",
       "      <td>presence</td>\n",
       "      <td>NaN</td>\n",
       "      <td>NaN</td>\n",
       "      <td>NaN</td>\n",
       "    </tr>\n",
       "    <tr>\n",
       "      <th>1</th>\n",
       "      <td>67</td>\n",
       "      <td>feminin</td>\n",
       "      <td>C</td>\n",
       "      <td>A</td>\n",
       "      <td>160</td>\n",
       "      <td>non</td>\n",
       "      <td>16</td>\n",
       "      <td>absence</td>\n",
       "      <td>NaN</td>\n",
       "      <td>NaN</td>\n",
       "      <td>NaN</td>\n",
       "    </tr>\n",
       "    <tr>\n",
       "      <th>2</th>\n",
       "      <td>57</td>\n",
       "      <td>masculin</td>\n",
       "      <td>B</td>\n",
       "      <td>A</td>\n",
       "      <td>141</td>\n",
       "      <td>non</td>\n",
       "      <td>3</td>\n",
       "      <td>presence</td>\n",
       "      <td>NaN</td>\n",
       "      <td>NaN</td>\n",
       "      <td>NaN</td>\n",
       "    </tr>\n",
       "    <tr>\n",
       "      <th>3</th>\n",
       "      <td>64</td>\n",
       "      <td>masculin</td>\n",
       "      <td>D</td>\n",
       "      <td>A</td>\n",
       "      <td>105</td>\n",
       "      <td>oui</td>\n",
       "      <td>2</td>\n",
       "      <td>absence</td>\n",
       "      <td>NaN</td>\n",
       "      <td>NaN</td>\n",
       "      <td>NaN</td>\n",
       "    </tr>\n",
       "    <tr>\n",
       "      <th>4</th>\n",
       "      <td>74</td>\n",
       "      <td>feminin</td>\n",
       "      <td>B</td>\n",
       "      <td>A</td>\n",
       "      <td>121</td>\n",
       "      <td>oui</td>\n",
       "      <td>2</td>\n",
       "      <td>absence</td>\n",
       "      <td>NaN</td>\n",
       "      <td>NaN</td>\n",
       "      <td>NaN</td>\n",
       "    </tr>\n",
       "  </tbody>\n",
       "</table>\n",
       "</div>"
      ],
      "text/plain": [
       "   age      sexe typedouleur sucre  tauxmax angine  depression coeur col9  \\\n",
       "0   70  masculin           D     A      109    non          24   presence   \n",
       "1   67   feminin           C     A      160    non          16    absence   \n",
       "2   57  masculin           B     A      141    non           3   presence   \n",
       "3   64  masculin           D     A      105    oui           2    absence   \n",
       "4   74   feminin           B     A      121    oui           2    absence   \n",
       "\n",
       "   col10  col11  col13  \n",
       "0    NaN    NaN    NaN  \n",
       "1    NaN    NaN    NaN  \n",
       "2    NaN    NaN    NaN  \n",
       "3    NaN    NaN    NaN  \n",
       "4    NaN    NaN    NaN  "
      ]
     },
     "execution_count": 37,
     "metadata": {},
     "output_type": "execute_result"
    }
   ],
   "source": [
    "dt = pd.read_csv(path, sep='\\t', low_memory=False)\n",
    "dt.head()\n"
   ]
  },
  {
   "cell_type": "markdown",
   "metadata": {},
   "source": [
    "### Les colonnes ?"
   ]
  },
  {
   "cell_type": "code",
   "execution_count": 38,
   "metadata": {
    "scrolled": true
   },
   "outputs": [
    {
     "data": {
      "text/plain": [
       "['age',\n",
       " 'sexe',\n",
       " 'typedouleur',\n",
       " 'sucre',\n",
       " 'tauxmax',\n",
       " 'angine',\n",
       " 'depression',\n",
       " 'coeur col9',\n",
       " 'col10',\n",
       " 'col11',\n",
       " 'col13']"
      ]
     },
     "execution_count": 38,
     "metadata": {},
     "output_type": "execute_result"
    }
   ],
   "source": [
    "# Lister les colonnes (les noms des vars) ? \n",
    "# R : \n",
    "dt.columns.values.tolist()\n"
   ]
  },
  {
   "cell_type": "code",
   "execution_count": 39,
   "metadata": {
    "scrolled": true
   },
   "outputs": [
    {
     "name": "stdout",
     "output_type": "stream",
     "text": [
      "age\n",
      "sexe\n",
      "typedouleur\n",
      "sucre\n",
      "tauxmax\n"
     ]
    }
   ],
   "source": [
    "# Supposons que ce dernier affichage ne vous conviens pas (à l'horizontal, surtout si vs avez 5000 cols) ?! \n",
    "# Mettez en place 1boucle \"for\" qui vous permez d'afficher le résultat (à la verticale) et de le contrôler (nb de col à afficher) ?\n",
    "# R : \n",
    "def showInVertical(dataframe,nbCol):\n",
    "    i = 1\n",
    "    listCol = dataframe.columns.values.tolist()\n",
    "    for val in listCol :\n",
    "        print(val)\n",
    "        if i >= nbCol:\n",
    "            break\n",
    "        i += 1\n",
    "        \n",
    "showInVertical(dt,5)"
   ]
  },
  {
   "cell_type": "code",
   "execution_count": 52,
   "metadata": {},
   "outputs": [
    {
     "data": {
      "text/plain": [
       "age              int64\n",
       "sexe            object\n",
       "typedouleur     object\n",
       "sucre           object\n",
       "tauxmax          int64\n",
       "                ...   \n",
       "depression       int64\n",
       "coeur col9      object\n",
       "col10          float64\n",
       "col11          float64\n",
       "col13          float64\n",
       "Length: 11, dtype: object"
      ]
     },
     "execution_count": 52,
     "metadata": {},
     "output_type": "execute_result"
    }
   ],
   "source": [
    "# Quelle est le type de chaque colonne : int64, object,... ? \n",
    "# R : Le type est String\n",
    "dt = pd.read_csv(path, sep='\\t', low_memory=False)\n",
    "dt.dtypes"
   ]
  },
  {
   "cell_type": "raw",
   "metadata": {},
   "source": [
    "Il y'a combien type ? (3) Que veut dire le type \"object\" ? \n",
    "Question à revenir dessus plus tard (après avoir travaillé sur les Series), combien de type (en ligne de commande) ?   \n",
    "# R : "
   ]
  },
  {
   "cell_type": "code",
   "execution_count": 6,
   "metadata": {},
   "outputs": [],
   "source": [
    "# Au lieu de taper ces 2 dernières commandes, \n",
    "# il existe une commande qui vous permet de retrouver ces 2 derniers résultats (à la fois) ?\n",
    "# Laquelle ?\n",
    "# R : \n"
   ]
  },
  {
   "cell_type": "raw",
   "metadata": {},
   "source": [
    "Pandas a tendance d'abuser de la mémoire lors de chargement des df.\n",
    "Aussi, il est vivement recommandé de bien affecter les bons types à chaque variable ne serait-ce que pour éviter de faire des opérations douteuses, par exemple arithmétiques sur des vars de type \"object\".\n",
    "Ds notre cas, vérifiez que notre fichier ne comporte pas de nombres avec des chiffres après la virgule ?\n",
    "Malgré cela, Pandas a stocké les cols concernées en int64 au lieu de int8 (gaspillage) !"
   ]
  },
  {
   "cell_type": "code",
   "execution_count": 66,
   "metadata": {},
   "outputs": [
    {
     "data": {
      "text/plain": [
       "age               int8\n",
       "sexe            object\n",
       "typedouleur     object\n",
       "sucre           object\n",
       "tauxmax           int8\n",
       "                ...   \n",
       "depression        int8\n",
       "coeur col9      object\n",
       "col10          float64\n",
       "col11          float64\n",
       "col13          float64\n",
       "Length: 11, dtype: object"
      ]
     },
     "execution_count": 66,
     "metadata": {},
     "output_type": "execute_result"
    }
   ],
   "source": [
    "# Par souci d'optimisation, mettez les cols qui sont en int64 en int8 ?\n",
    "# R :\n",
    "\n",
    "dt = pd.read_csv(path, sep='\\t', low_memory=False)\n",
    "dt.astype({'age': 'int8', 'depression':'int8', 'tauxmax':'int8'}).dtypes"
   ]
  },
  {
   "cell_type": "code",
   "execution_count": null,
   "metadata": {},
   "outputs": [],
   "source": [
    "Q à traiter plus tard : Comment faire la même manip (sans relire le fichier) ? "
   ]
  },
  {
   "cell_type": "raw",
   "metadata": {},
   "source": [
    "Supposons que ns avons à travailler sur un fichier avec des nombres avec des chiffres après la virgule (ou point pr spécifier un décimal (US Vs. EU)\n",
    "Trouvez l'option ds pd.read_table() qui permet de le spécifier ? \n",
    "# R : "
   ]
  },
  {
   "cell_type": "markdown",
   "metadata": {},
   "source": [
    "### Description des données"
   ]
  },
  {
   "cell_type": "code",
   "execution_count": 70,
   "metadata": {},
   "outputs": [
    {
     "data": {
      "text/html": [
       "<div>\n",
       "<style scoped>\n",
       "    .dataframe tbody tr th:only-of-type {\n",
       "        vertical-align: middle;\n",
       "    }\n",
       "\n",
       "    .dataframe tbody tr th {\n",
       "        vertical-align: top;\n",
       "    }\n",
       "\n",
       "    .dataframe thead th {\n",
       "        text-align: right;\n",
       "    }\n",
       "</style>\n",
       "<table border=\"1\" class=\"dataframe\">\n",
       "  <thead>\n",
       "    <tr style=\"text-align: right;\">\n",
       "      <th></th>\n",
       "      <th>age</th>\n",
       "      <th>sexe</th>\n",
       "      <th>typedouleur</th>\n",
       "      <th>sucre</th>\n",
       "      <th>tauxmax</th>\n",
       "      <th>angine</th>\n",
       "      <th>depression</th>\n",
       "      <th>coeur col9</th>\n",
       "      <th>col10</th>\n",
       "      <th>col11</th>\n",
       "      <th>col13</th>\n",
       "    </tr>\n",
       "  </thead>\n",
       "  <tbody>\n",
       "    <tr>\n",
       "      <th>count</th>\n",
       "      <td>270.000000</td>\n",
       "      <td>270</td>\n",
       "      <td>270</td>\n",
       "      <td>270</td>\n",
       "      <td>270.000000</td>\n",
       "      <td>270</td>\n",
       "      <td>270.0</td>\n",
       "      <td>270</td>\n",
       "      <td>0.0</td>\n",
       "      <td>0.0</td>\n",
       "      <td>0.0</td>\n",
       "    </tr>\n",
       "    <tr>\n",
       "      <th>unique</th>\n",
       "      <td>NaN</td>\n",
       "      <td>2</td>\n",
       "      <td>4</td>\n",
       "      <td>2</td>\n",
       "      <td>NaN</td>\n",
       "      <td>2</td>\n",
       "      <td>NaN</td>\n",
       "      <td>2</td>\n",
       "      <td>NaN</td>\n",
       "      <td>NaN</td>\n",
       "      <td>NaN</td>\n",
       "    </tr>\n",
       "    <tr>\n",
       "      <th>top</th>\n",
       "      <td>NaN</td>\n",
       "      <td>masculin</td>\n",
       "      <td>D</td>\n",
       "      <td>A</td>\n",
       "      <td>NaN</td>\n",
       "      <td>non</td>\n",
       "      <td>NaN</td>\n",
       "      <td>absence</td>\n",
       "      <td>NaN</td>\n",
       "      <td>NaN</td>\n",
       "      <td>NaN</td>\n",
       "    </tr>\n",
       "    <tr>\n",
       "      <th>freq</th>\n",
       "      <td>NaN</td>\n",
       "      <td>183</td>\n",
       "      <td>129</td>\n",
       "      <td>230</td>\n",
       "      <td>NaN</td>\n",
       "      <td>181</td>\n",
       "      <td>NaN</td>\n",
       "      <td>150</td>\n",
       "      <td>NaN</td>\n",
       "      <td>NaN</td>\n",
       "      <td>NaN</td>\n",
       "    </tr>\n",
       "    <tr>\n",
       "      <th>mean</th>\n",
       "      <td>54.433333</td>\n",
       "      <td>NaN</td>\n",
       "      <td>NaN</td>\n",
       "      <td>NaN</td>\n",
       "      <td>149.677778</td>\n",
       "      <td>NaN</td>\n",
       "      <td>10.5</td>\n",
       "      <td>NaN</td>\n",
       "      <td>NaN</td>\n",
       "      <td>NaN</td>\n",
       "      <td>NaN</td>\n",
       "    </tr>\n",
       "    <tr>\n",
       "      <th>...</th>\n",
       "      <td>...</td>\n",
       "      <td>...</td>\n",
       "      <td>...</td>\n",
       "      <td>...</td>\n",
       "      <td>...</td>\n",
       "      <td>...</td>\n",
       "      <td>...</td>\n",
       "      <td>...</td>\n",
       "      <td>...</td>\n",
       "      <td>...</td>\n",
       "      <td>...</td>\n",
       "    </tr>\n",
       "    <tr>\n",
       "      <th>min</th>\n",
       "      <td>29.000000</td>\n",
       "      <td>NaN</td>\n",
       "      <td>NaN</td>\n",
       "      <td>NaN</td>\n",
       "      <td>71.000000</td>\n",
       "      <td>NaN</td>\n",
       "      <td>0.0</td>\n",
       "      <td>NaN</td>\n",
       "      <td>NaN</td>\n",
       "      <td>NaN</td>\n",
       "      <td>NaN</td>\n",
       "    </tr>\n",
       "    <tr>\n",
       "      <th>25%</th>\n",
       "      <td>48.000000</td>\n",
       "      <td>NaN</td>\n",
       "      <td>NaN</td>\n",
       "      <td>NaN</td>\n",
       "      <td>133.000000</td>\n",
       "      <td>NaN</td>\n",
       "      <td>0.0</td>\n",
       "      <td>NaN</td>\n",
       "      <td>NaN</td>\n",
       "      <td>NaN</td>\n",
       "      <td>NaN</td>\n",
       "    </tr>\n",
       "    <tr>\n",
       "      <th>50%</th>\n",
       "      <td>55.000000</td>\n",
       "      <td>NaN</td>\n",
       "      <td>NaN</td>\n",
       "      <td>NaN</td>\n",
       "      <td>153.500000</td>\n",
       "      <td>NaN</td>\n",
       "      <td>8.0</td>\n",
       "      <td>NaN</td>\n",
       "      <td>NaN</td>\n",
       "      <td>NaN</td>\n",
       "      <td>NaN</td>\n",
       "    </tr>\n",
       "    <tr>\n",
       "      <th>75%</th>\n",
       "      <td>61.000000</td>\n",
       "      <td>NaN</td>\n",
       "      <td>NaN</td>\n",
       "      <td>NaN</td>\n",
       "      <td>166.000000</td>\n",
       "      <td>NaN</td>\n",
       "      <td>16.0</td>\n",
       "      <td>NaN</td>\n",
       "      <td>NaN</td>\n",
       "      <td>NaN</td>\n",
       "      <td>NaN</td>\n",
       "    </tr>\n",
       "    <tr>\n",
       "      <th>max</th>\n",
       "      <td>77.000000</td>\n",
       "      <td>NaN</td>\n",
       "      <td>NaN</td>\n",
       "      <td>NaN</td>\n",
       "      <td>202.000000</td>\n",
       "      <td>NaN</td>\n",
       "      <td>62.0</td>\n",
       "      <td>NaN</td>\n",
       "      <td>NaN</td>\n",
       "      <td>NaN</td>\n",
       "      <td>NaN</td>\n",
       "    </tr>\n",
       "  </tbody>\n",
       "</table>\n",
       "<p>11 rows × 11 columns</p>\n",
       "</div>"
      ],
      "text/plain": [
       "               age      sexe typedouleur sucre     tauxmax angine  depression  \\\n",
       "count   270.000000       270         270   270  270.000000    270       270.0   \n",
       "unique         NaN         2           4     2         NaN      2         NaN   \n",
       "top            NaN  masculin           D     A         NaN    non         NaN   \n",
       "freq           NaN       183         129   230         NaN    181         NaN   \n",
       "mean     54.433333       NaN         NaN   NaN  149.677778    NaN        10.5   \n",
       "...            ...       ...         ...   ...         ...    ...         ...   \n",
       "min      29.000000       NaN         NaN   NaN   71.000000    NaN         0.0   \n",
       "25%      48.000000       NaN         NaN   NaN  133.000000    NaN         0.0   \n",
       "50%      55.000000       NaN         NaN   NaN  153.500000    NaN         8.0   \n",
       "75%      61.000000       NaN         NaN   NaN  166.000000    NaN        16.0   \n",
       "max      77.000000       NaN         NaN   NaN  202.000000    NaN        62.0   \n",
       "\n",
       "       coeur col9  col10  col11  col13  \n",
       "count         270    0.0    0.0    0.0  \n",
       "unique          2    NaN    NaN    NaN  \n",
       "top       absence    NaN    NaN    NaN  \n",
       "freq          150    NaN    NaN    NaN  \n",
       "mean          NaN    NaN    NaN    NaN  \n",
       "...           ...    ...    ...    ...  \n",
       "min           NaN    NaN    NaN    NaN  \n",
       "25%           NaN    NaN    NaN    NaN  \n",
       "50%           NaN    NaN    NaN    NaN  \n",
       "75%           NaN    NaN    NaN    NaN  \n",
       "max           NaN    NaN    NaN    NaN  \n",
       "\n",
       "[11 rows x 11 columns]"
      ]
     },
     "execution_count": 70,
     "metadata": {},
     "output_type": "execute_result"
    }
   ],
   "source": [
    "# Trouvez une commande pr présenter les statistiques descriptives de tt le df (min, max, moy,...) ?  \n",
    "# R : \n",
    "\n",
    "dt.describe(include='all')"
   ]
  },
  {
   "cell_type": "raw",
   "metadata": {},
   "source": [
    "Explication : \n",
    "Certains indicateurs statistiques ne sont valables que pour : \n",
    "# les variables numériques (ex. moyenne, min, etc. pour age, tauxmax,...),\n",
    "# et inversemment pour les non-numériques (ex. top, freq, etc. pour sexe, typedouleur, ...),\n",
    "# d'où les NaN dans certaines situations.\n",
    "Est-ce que ce résultat vs convient ?! \n",
    "# Pr plus de clarté, ns souhaitons afficher les stats pr les vars num dans un 1er tps (1è commande ?)\n",
    "# Et ds un 2sd tps les vars de type objects (2è commande ?)\n",
    "# Comment faire ? "
   ]
  },
  {
   "cell_type": "code",
   "execution_count": 69,
   "metadata": {
    "scrolled": true
   },
   "outputs": [
    {
     "data": {
      "text/html": [
       "<div>\n",
       "<style scoped>\n",
       "    .dataframe tbody tr th:only-of-type {\n",
       "        vertical-align: middle;\n",
       "    }\n",
       "\n",
       "    .dataframe tbody tr th {\n",
       "        vertical-align: top;\n",
       "    }\n",
       "\n",
       "    .dataframe thead th {\n",
       "        text-align: right;\n",
       "    }\n",
       "</style>\n",
       "<table border=\"1\" class=\"dataframe\">\n",
       "  <thead>\n",
       "    <tr style=\"text-align: right;\">\n",
       "      <th></th>\n",
       "      <th>age</th>\n",
       "      <th>tauxmax</th>\n",
       "      <th>depression</th>\n",
       "      <th>col10</th>\n",
       "      <th>col11</th>\n",
       "      <th>col13</th>\n",
       "    </tr>\n",
       "  </thead>\n",
       "  <tbody>\n",
       "    <tr>\n",
       "      <th>count</th>\n",
       "      <td>270.000000</td>\n",
       "      <td>270.000000</td>\n",
       "      <td>270.000000</td>\n",
       "      <td>0.0</td>\n",
       "      <td>0.0</td>\n",
       "      <td>0.0</td>\n",
       "    </tr>\n",
       "    <tr>\n",
       "      <th>mean</th>\n",
       "      <td>54.433333</td>\n",
       "      <td>149.677778</td>\n",
       "      <td>10.500000</td>\n",
       "      <td>NaN</td>\n",
       "      <td>NaN</td>\n",
       "      <td>NaN</td>\n",
       "    </tr>\n",
       "    <tr>\n",
       "      <th>std</th>\n",
       "      <td>9.109067</td>\n",
       "      <td>23.165717</td>\n",
       "      <td>11.452098</td>\n",
       "      <td>NaN</td>\n",
       "      <td>NaN</td>\n",
       "      <td>NaN</td>\n",
       "    </tr>\n",
       "    <tr>\n",
       "      <th>min</th>\n",
       "      <td>29.000000</td>\n",
       "      <td>71.000000</td>\n",
       "      <td>0.000000</td>\n",
       "      <td>NaN</td>\n",
       "      <td>NaN</td>\n",
       "      <td>NaN</td>\n",
       "    </tr>\n",
       "    <tr>\n",
       "      <th>25%</th>\n",
       "      <td>48.000000</td>\n",
       "      <td>133.000000</td>\n",
       "      <td>0.000000</td>\n",
       "      <td>NaN</td>\n",
       "      <td>NaN</td>\n",
       "      <td>NaN</td>\n",
       "    </tr>\n",
       "    <tr>\n",
       "      <th>50%</th>\n",
       "      <td>55.000000</td>\n",
       "      <td>153.500000</td>\n",
       "      <td>8.000000</td>\n",
       "      <td>NaN</td>\n",
       "      <td>NaN</td>\n",
       "      <td>NaN</td>\n",
       "    </tr>\n",
       "    <tr>\n",
       "      <th>75%</th>\n",
       "      <td>61.000000</td>\n",
       "      <td>166.000000</td>\n",
       "      <td>16.000000</td>\n",
       "      <td>NaN</td>\n",
       "      <td>NaN</td>\n",
       "      <td>NaN</td>\n",
       "    </tr>\n",
       "    <tr>\n",
       "      <th>max</th>\n",
       "      <td>77.000000</td>\n",
       "      <td>202.000000</td>\n",
       "      <td>62.000000</td>\n",
       "      <td>NaN</td>\n",
       "      <td>NaN</td>\n",
       "      <td>NaN</td>\n",
       "    </tr>\n",
       "  </tbody>\n",
       "</table>\n",
       "</div>"
      ],
      "text/plain": [
       "              age     tauxmax  depression  col10  col11  col13\n",
       "count  270.000000  270.000000  270.000000    0.0    0.0    0.0\n",
       "mean    54.433333  149.677778   10.500000    NaN    NaN    NaN\n",
       "std      9.109067   23.165717   11.452098    NaN    NaN    NaN\n",
       "min     29.000000   71.000000    0.000000    NaN    NaN    NaN\n",
       "25%     48.000000  133.000000    0.000000    NaN    NaN    NaN\n",
       "50%     55.000000  153.500000    8.000000    NaN    NaN    NaN\n",
       "75%     61.000000  166.000000   16.000000    NaN    NaN    NaN\n",
       "max     77.000000  202.000000   62.000000    NaN    NaN    NaN"
      ]
     },
     "execution_count": 69,
     "metadata": {},
     "output_type": "execute_result"
    }
   ],
   "source": [
    "# Stats desc pr les vars num ? \n",
    "dt.describe(include=[np.number])"
   ]
  },
  {
   "cell_type": "code",
   "execution_count": 71,
   "metadata": {},
   "outputs": [
    {
     "data": {
      "text/html": [
       "<div>\n",
       "<style scoped>\n",
       "    .dataframe tbody tr th:only-of-type {\n",
       "        vertical-align: middle;\n",
       "    }\n",
       "\n",
       "    .dataframe tbody tr th {\n",
       "        vertical-align: top;\n",
       "    }\n",
       "\n",
       "    .dataframe thead th {\n",
       "        text-align: right;\n",
       "    }\n",
       "</style>\n",
       "<table border=\"1\" class=\"dataframe\">\n",
       "  <thead>\n",
       "    <tr style=\"text-align: right;\">\n",
       "      <th></th>\n",
       "      <th>sexe</th>\n",
       "      <th>typedouleur</th>\n",
       "      <th>sucre</th>\n",
       "      <th>angine</th>\n",
       "      <th>coeur col9</th>\n",
       "    </tr>\n",
       "  </thead>\n",
       "  <tbody>\n",
       "    <tr>\n",
       "      <th>count</th>\n",
       "      <td>270</td>\n",
       "      <td>270</td>\n",
       "      <td>270</td>\n",
       "      <td>270</td>\n",
       "      <td>270</td>\n",
       "    </tr>\n",
       "    <tr>\n",
       "      <th>unique</th>\n",
       "      <td>2</td>\n",
       "      <td>4</td>\n",
       "      <td>2</td>\n",
       "      <td>2</td>\n",
       "      <td>2</td>\n",
       "    </tr>\n",
       "    <tr>\n",
       "      <th>top</th>\n",
       "      <td>masculin</td>\n",
       "      <td>D</td>\n",
       "      <td>A</td>\n",
       "      <td>non</td>\n",
       "      <td>absence</td>\n",
       "    </tr>\n",
       "    <tr>\n",
       "      <th>freq</th>\n",
       "      <td>183</td>\n",
       "      <td>129</td>\n",
       "      <td>230</td>\n",
       "      <td>181</td>\n",
       "      <td>150</td>\n",
       "    </tr>\n",
       "  </tbody>\n",
       "</table>\n",
       "</div>"
      ],
      "text/plain": [
       "            sexe typedouleur sucre angine coeur col9\n",
       "count        270         270   270    270        270\n",
       "unique         2           4     2      2          2\n",
       "top     masculin           D     A    non    absence\n",
       "freq         183         129   230    181        150"
      ]
     },
     "execution_count": 71,
     "metadata": {},
     "output_type": "execute_result"
    }
   ],
   "source": [
    "# Stats desc pr les vars non-num ? \n",
    "dt.describe(include=['object'])"
   ]
  },
  {
   "cell_type": "markdown",
   "metadata": {},
   "source": [
    "## Manipulation des variables"
   ]
  },
  {
   "cell_type": "markdown",
   "metadata": {},
   "source": [
    "### Accès aux variables\n",
    "\n",
    "Il est possible d'accéder explicitement aux variables. Dans un premier temps, nous utilisons directement les noms des champs (les noms des variables, en en-tête de colonne)."
   ]
  },
  {
   "cell_type": "code",
   "execution_count": 74,
   "metadata": {
    "scrolled": true
   },
   "outputs": [
    {
     "name": "stdout",
     "output_type": "stream",
     "text": [
      "0      70\n",
      "1      67\n",
      "2      57\n",
      "3      64\n",
      "4      74\n",
      "       ..\n",
      "265    52\n",
      "266    44\n",
      "267    56\n",
      "268    57\n",
      "269    67\n",
      "Name: age, Length: 270, dtype: int64\n"
     ]
    }
   ],
   "source": [
    "# Accès à une colonne de votre choix ? \n",
    "# R : \n",
    "s=dt['age']\n",
    "print(s)"
   ]
  },
  {
   "cell_type": "code",
   "execution_count": 83,
   "metadata": {},
   "outputs": [
    {
     "name": "stdout",
     "output_type": "stream",
     "text": [
      "<class 'pandas.core.series.Series'>\n"
     ]
    }
   ],
   "source": [
    "# Autre manière d'accéder à une colonne avec le \".  ? \n",
    "# R : \n",
    "a = dt.loc[ : , 'age' ]\n"
   ]
  },
  {
   "cell_type": "code",
   "execution_count": 79,
   "metadata": {},
   "outputs": [
    {
     "data": {
      "text/html": [
       "<div>\n",
       "<style scoped>\n",
       "    .dataframe tbody tr th:only-of-type {\n",
       "        vertical-align: middle;\n",
       "    }\n",
       "\n",
       "    .dataframe tbody tr th {\n",
       "        vertical-align: top;\n",
       "    }\n",
       "\n",
       "    .dataframe thead th {\n",
       "        text-align: right;\n",
       "    }\n",
       "</style>\n",
       "<table border=\"1\" class=\"dataframe\">\n",
       "  <thead>\n",
       "    <tr style=\"text-align: right;\">\n",
       "      <th></th>\n",
       "      <th>age</th>\n",
       "      <th>tauxmax</th>\n",
       "    </tr>\n",
       "  </thead>\n",
       "  <tbody>\n",
       "    <tr>\n",
       "      <th>0</th>\n",
       "      <td>70</td>\n",
       "      <td>109</td>\n",
       "    </tr>\n",
       "    <tr>\n",
       "      <th>1</th>\n",
       "      <td>67</td>\n",
       "      <td>160</td>\n",
       "    </tr>\n",
       "    <tr>\n",
       "      <th>2</th>\n",
       "      <td>57</td>\n",
       "      <td>141</td>\n",
       "    </tr>\n",
       "    <tr>\n",
       "      <th>3</th>\n",
       "      <td>64</td>\n",
       "      <td>105</td>\n",
       "    </tr>\n",
       "    <tr>\n",
       "      <th>4</th>\n",
       "      <td>74</td>\n",
       "      <td>121</td>\n",
       "    </tr>\n",
       "    <tr>\n",
       "      <th>...</th>\n",
       "      <td>...</td>\n",
       "      <td>...</td>\n",
       "    </tr>\n",
       "    <tr>\n",
       "      <th>265</th>\n",
       "      <td>52</td>\n",
       "      <td>162</td>\n",
       "    </tr>\n",
       "    <tr>\n",
       "      <th>266</th>\n",
       "      <td>44</td>\n",
       "      <td>173</td>\n",
       "    </tr>\n",
       "    <tr>\n",
       "      <th>267</th>\n",
       "      <td>56</td>\n",
       "      <td>153</td>\n",
       "    </tr>\n",
       "    <tr>\n",
       "      <th>268</th>\n",
       "      <td>57</td>\n",
       "      <td>148</td>\n",
       "    </tr>\n",
       "    <tr>\n",
       "      <th>269</th>\n",
       "      <td>67</td>\n",
       "      <td>108</td>\n",
       "    </tr>\n",
       "  </tbody>\n",
       "</table>\n",
       "<p>270 rows × 2 columns</p>\n",
       "</div>"
      ],
      "text/plain": [
       "     age  tauxmax\n",
       "0     70      109\n",
       "1     67      160\n",
       "2     57      141\n",
       "3     64      105\n",
       "4     74      121\n",
       "..   ...      ...\n",
       "265   52      162\n",
       "266   44      173\n",
       "267   56      153\n",
       "268   57      148\n",
       "269   67      108\n",
       "\n",
       "[270 rows x 2 columns]"
      ]
     },
     "execution_count": 79,
     "metadata": {},
     "output_type": "execute_result"
    }
   ],
   "source": [
    "# Accéder à un ensemble de colonnes ? \n",
    "# R : \n",
    "dt.loc[ : , ['age', 'tauxmax'] ]"
   ]
  },
  {
   "cell_type": "code",
   "execution_count": 88,
   "metadata": {},
   "outputs": [
    {
     "data": {
      "text/plain": [
       "0    70\n",
       "1    67\n",
       "2    57\n",
       "3    64\n",
       "4    74\n",
       "Name: age, dtype: int64"
      ]
     },
     "execution_count": 88,
     "metadata": {},
     "output_type": "execute_result"
    }
   ],
   "source": [
    "# Une colonne est un vecteur (Series en terminologie Pandas)\n",
    "# Affichage des premières valeurs\n",
    "# R : \n",
    "dt['age'].head()\n"
   ]
  },
  {
   "cell_type": "code",
   "execution_count": 86,
   "metadata": {},
   "outputs": [
    {
     "data": {
      "text/plain": [
       "265    52\n",
       "266    44\n",
       "267    56\n",
       "268    57\n",
       "269    67\n",
       "Name: age, dtype: int64"
      ]
     },
     "execution_count": 86,
     "metadata": {},
     "output_type": "execute_result"
    }
   ],
   "source": [
    "# Affichage des dernières valeurs\n",
    "# R : \n",
    "dt['age'].tail()"
   ]
  },
  {
   "cell_type": "code",
   "execution_count": 89,
   "metadata": {},
   "outputs": [
    {
     "data": {
      "text/plain": [
       "count    270.000000\n",
       "mean      54.433333\n",
       "std        9.109067\n",
       "min       29.000000\n",
       "25%       48.000000\n",
       "50%       55.000000\n",
       "75%       61.000000\n",
       "max       77.000000\n",
       "Name: age, dtype: float64"
      ]
     },
     "execution_count": 89,
     "metadata": {},
     "output_type": "execute_result"
    }
   ],
   "source": [
    "# Statistique descriptive d'une col. Pour plus de détails, voir :\n",
    "# http://pandas.pydata.org/pandas-docs/stable/basics.html#summarizing-data-describe\n",
    "# R : \n",
    "dt['age'].describe()"
   ]
  },
  {
   "cell_type": "code",
   "execution_count": 90,
   "metadata": {},
   "outputs": [
    {
     "data": {
      "text/plain": [
       "54.43333333333333"
      ]
     },
     "execution_count": 90,
     "metadata": {},
     "output_type": "execute_result"
    }
   ],
   "source": [
    "# Calculer explicitement la moyenne, par ex col \"age\"\n",
    "# R : \n",
    "dt['age'].mean()"
   ]
  },
  {
   "cell_type": "code",
   "execution_count": 91,
   "metadata": {},
   "outputs": [
    {
     "data": {
      "text/plain": [
       "270"
      ]
     },
     "execution_count": 91,
     "metadata": {},
     "output_type": "execute_result"
    }
   ],
   "source": [
    "# Comptage des valeurs, par ex col \"typedouleur\"\n",
    "# R : \n",
    "dt['typedouleur'].count()\n"
   ]
  },
  {
   "cell_type": "code",
   "execution_count": 93,
   "metadata": {},
   "outputs": [
    {
     "data": {
      "text/plain": [
       "70"
      ]
     },
     "execution_count": 93,
     "metadata": {},
     "output_type": "execute_result"
    }
   ],
   "source": [
    "# Un type Series est un vecteur, il est possible d'utiliser des indices\n",
    "# Première valeur ? \n",
    "# R : \n",
    "dt['age'][0]"
   ]
  },
  {
   "cell_type": "code",
   "execution_count": 94,
   "metadata": {},
   "outputs": [
    {
     "data": {
      "text/plain": [
       "0    70\n",
       "1    67\n",
       "2    57\n",
       "Name: age, dtype: int64"
      ]
     },
     "execution_count": 94,
     "metadata": {},
     "output_type": "execute_result"
    }
   ],
   "source": [
    "# 3 premières valeurs ? \n",
    "# R : \n",
    "dt['age'][range(3)]"
   ]
  },
  {
   "cell_type": "code",
   "execution_count": 95,
   "metadata": {},
   "outputs": [
    {
     "data": {
      "text/plain": [
       "269    67\n",
       "268    57\n",
       "267    56\n",
       "266    44\n",
       "265    52\n",
       "       ..\n",
       "4      74\n",
       "3      64\n",
       "2      57\n",
       "1      67\n",
       "0      70\n",
       "Name: age, Length: 270, dtype: int64"
      ]
     },
     "execution_count": 95,
     "metadata": {},
     "output_type": "execute_result"
    }
   ],
   "source": [
    "# Triez les valeurs d'une variable de manière croissante ? \n",
    "# R : \n",
    "dt['age'].sort_index(ascending=False)"
   ]
  },
  {
   "cell_type": "code",
   "execution_count": 99,
   "metadata": {},
   "outputs": [
    {
     "data": {
      "text/html": [
       "<div>\n",
       "<style scoped>\n",
       "    .dataframe tbody tr th:only-of-type {\n",
       "        vertical-align: middle;\n",
       "    }\n",
       "\n",
       "    .dataframe tbody tr th {\n",
       "        vertical-align: top;\n",
       "    }\n",
       "\n",
       "    .dataframe thead th {\n",
       "        text-align: right;\n",
       "    }\n",
       "</style>\n",
       "<table border=\"1\" class=\"dataframe\">\n",
       "  <thead>\n",
       "    <tr style=\"text-align: right;\">\n",
       "      <th></th>\n",
       "      <th>age</th>\n",
       "      <th>sexe</th>\n",
       "      <th>typedouleur</th>\n",
       "      <th>sucre</th>\n",
       "      <th>tauxmax</th>\n",
       "      <th>angine</th>\n",
       "      <th>depression</th>\n",
       "      <th>coeur col9</th>\n",
       "      <th>col10</th>\n",
       "      <th>col11</th>\n",
       "      <th>col13</th>\n",
       "    </tr>\n",
       "  </thead>\n",
       "  <tbody>\n",
       "    <tr>\n",
       "      <th>214</th>\n",
       "      <td>29</td>\n",
       "      <td>masculin</td>\n",
       "      <td>B</td>\n",
       "      <td>A</td>\n",
       "      <td>202</td>\n",
       "      <td>non</td>\n",
       "      <td>0</td>\n",
       "      <td>absence</td>\n",
       "      <td>NaN</td>\n",
       "      <td>NaN</td>\n",
       "      <td>NaN</td>\n",
       "    </tr>\n",
       "    <tr>\n",
       "      <th>174</th>\n",
       "      <td>34</td>\n",
       "      <td>masculin</td>\n",
       "      <td>A</td>\n",
       "      <td>A</td>\n",
       "      <td>174</td>\n",
       "      <td>non</td>\n",
       "      <td>0</td>\n",
       "      <td>absence</td>\n",
       "      <td>NaN</td>\n",
       "      <td>NaN</td>\n",
       "      <td>NaN</td>\n",
       "    </tr>\n",
       "    <tr>\n",
       "      <th>138</th>\n",
       "      <td>34</td>\n",
       "      <td>feminin</td>\n",
       "      <td>B</td>\n",
       "      <td>A</td>\n",
       "      <td>192</td>\n",
       "      <td>non</td>\n",
       "      <td>7</td>\n",
       "      <td>absence</td>\n",
       "      <td>NaN</td>\n",
       "      <td>NaN</td>\n",
       "      <td>NaN</td>\n",
       "    </tr>\n",
       "    <tr>\n",
       "      <th>224</th>\n",
       "      <td>35</td>\n",
       "      <td>feminin</td>\n",
       "      <td>D</td>\n",
       "      <td>A</td>\n",
       "      <td>182</td>\n",
       "      <td>non</td>\n",
       "      <td>14</td>\n",
       "      <td>absence</td>\n",
       "      <td>NaN</td>\n",
       "      <td>NaN</td>\n",
       "      <td>NaN</td>\n",
       "    </tr>\n",
       "    <tr>\n",
       "      <th>81</th>\n",
       "      <td>35</td>\n",
       "      <td>masculin</td>\n",
       "      <td>D</td>\n",
       "      <td>A</td>\n",
       "      <td>130</td>\n",
       "      <td>oui</td>\n",
       "      <td>16</td>\n",
       "      <td>presence</td>\n",
       "      <td>NaN</td>\n",
       "      <td>NaN</td>\n",
       "      <td>NaN</td>\n",
       "    </tr>\n",
       "  </tbody>\n",
       "</table>\n",
       "</div>"
      ],
      "text/plain": [
       "     age      sexe typedouleur sucre  tauxmax angine  depression coeur col9  \\\n",
       "214   29  masculin           B     A      202    non           0    absence   \n",
       "174   34  masculin           A     A      174    non           0    absence   \n",
       "138   34   feminin           B     A      192    non           7    absence   \n",
       "224   35   feminin           D     A      182    non          14    absence   \n",
       "81    35  masculin           D     A      130    oui          16   presence   \n",
       "\n",
       "     col10  col11  col13  \n",
       "214    NaN    NaN    NaN  \n",
       "174    NaN    NaN    NaN  \n",
       "138    NaN    NaN    NaN  \n",
       "224    NaN    NaN    NaN  \n",
       "81     NaN    NaN    NaN  "
      ]
     },
     "execution_count": 99,
     "metadata": {},
     "output_type": "execute_result"
    }
   ],
   "source": [
    "# le tri peut être généralisé aux DataFrame\n",
    "# par exemple : triez le df selon l'âge puis afficher les 1è lignes\n",
    "# R : \n",
    "dt.sort_values(by='age').head()"
   ]
  },
  {
   "cell_type": "markdown",
   "metadata": {},
   "source": [
    "## Accès indicé aux données d'un DataFrame\n",
    "On peut accéder aux valeurs du DataFrame via des indices ou plages d'indice. La structure se comporte alors comme une matrice. La cellule en haut et à gauche est de coordonnées (0,0).\n",
    "\n",
    "Il y a différentes manières de le faire, l'utilisation de .iloc[,] constitue une des solutions les plus simples. N'oublions pas que Shape permet d'obtenir les dimensions (lignes et colonnes) du DataFrame."
   ]
  },
  {
   "cell_type": "code",
   "execution_count": 105,
   "metadata": {},
   "outputs": [
    {
     "data": {
      "text/plain": [
       "70"
      ]
     },
     "execution_count": 105,
     "metadata": {},
     "output_type": "execute_result"
    }
   ],
   "source": [
    "# Accèdez à la valeur située en (0,0) ?\n",
    "# R : \n",
    "dt.iloc[0][0]"
   ]
  },
  {
   "cell_type": "code",
   "execution_count": 106,
   "metadata": {},
   "outputs": [
    {
     "data": {
      "text/plain": [
       "67"
      ]
     },
     "execution_count": 106,
     "metadata": {},
     "output_type": "execute_result"
    }
   ],
   "source": [
    "# Accédez à la valeur située en dernière ligne, première colonne ? \n",
    "# indice : utilisez l'indiçage négatif\n",
    "# R : \n",
    "dt.iloc[-1][0]"
   ]
  },
  {
   "cell_type": "code",
   "execution_count": 113,
   "metadata": {},
   "outputs": [
    {
     "data": {
      "text/plain": [
       "67"
      ]
     },
     "execution_count": 113,
     "metadata": {},
     "output_type": "execute_result"
    }
   ],
   "source": [
    "# Accédez la valeur située en dernière ligne, première colonne ? \n",
    "# indice : shape[0] renvoie le nombre de lignes (1è dimension) qu'il faut réduire de -1 parce que le 1è indice est égal à 0. \n",
    "# sinon on déborde\n",
    "# R : \n",
    "nb_ligne = dt.shape[0]-1\n",
    "dt.iloc[nb_ligne][0]\n"
   ]
  },
  {
   "cell_type": "code",
   "execution_count": 125,
   "metadata": {},
   "outputs": [
    {
     "data": {
      "text/html": [
       "<div>\n",
       "<style scoped>\n",
       "    .dataframe tbody tr th:only-of-type {\n",
       "        vertical-align: middle;\n",
       "    }\n",
       "\n",
       "    .dataframe tbody tr th {\n",
       "        vertical-align: top;\n",
       "    }\n",
       "\n",
       "    .dataframe thead th {\n",
       "        text-align: right;\n",
       "    }\n",
       "</style>\n",
       "<table border=\"1\" class=\"dataframe\">\n",
       "  <thead>\n",
       "    <tr style=\"text-align: right;\">\n",
       "      <th></th>\n",
       "      <th>age</th>\n",
       "      <th>sexe</th>\n",
       "      <th>typedouleur</th>\n",
       "      <th>sucre</th>\n",
       "      <th>tauxmax</th>\n",
       "      <th>angine</th>\n",
       "      <th>depression</th>\n",
       "      <th>coeur col9</th>\n",
       "      <th>col10</th>\n",
       "      <th>col11</th>\n",
       "      <th>col13</th>\n",
       "    </tr>\n",
       "  </thead>\n",
       "  <tbody>\n",
       "    <tr>\n",
       "      <th>0</th>\n",
       "      <td>70</td>\n",
       "      <td>masculin</td>\n",
       "      <td>D</td>\n",
       "      <td>A</td>\n",
       "      <td>109</td>\n",
       "      <td>non</td>\n",
       "      <td>24</td>\n",
       "      <td>presence</td>\n",
       "      <td>NaN</td>\n",
       "      <td>NaN</td>\n",
       "      <td>NaN</td>\n",
       "    </tr>\n",
       "    <tr>\n",
       "      <th>1</th>\n",
       "      <td>67</td>\n",
       "      <td>feminin</td>\n",
       "      <td>C</td>\n",
       "      <td>A</td>\n",
       "      <td>160</td>\n",
       "      <td>non</td>\n",
       "      <td>16</td>\n",
       "      <td>absence</td>\n",
       "      <td>NaN</td>\n",
       "      <td>NaN</td>\n",
       "      <td>NaN</td>\n",
       "    </tr>\n",
       "    <tr>\n",
       "      <th>2</th>\n",
       "      <td>57</td>\n",
       "      <td>masculin</td>\n",
       "      <td>B</td>\n",
       "      <td>A</td>\n",
       "      <td>141</td>\n",
       "      <td>non</td>\n",
       "      <td>3</td>\n",
       "      <td>presence</td>\n",
       "      <td>NaN</td>\n",
       "      <td>NaN</td>\n",
       "      <td>NaN</td>\n",
       "    </tr>\n",
       "    <tr>\n",
       "      <th>3</th>\n",
       "      <td>64</td>\n",
       "      <td>masculin</td>\n",
       "      <td>D</td>\n",
       "      <td>A</td>\n",
       "      <td>105</td>\n",
       "      <td>oui</td>\n",
       "      <td>2</td>\n",
       "      <td>absence</td>\n",
       "      <td>NaN</td>\n",
       "      <td>NaN</td>\n",
       "      <td>NaN</td>\n",
       "    </tr>\n",
       "    <tr>\n",
       "      <th>4</th>\n",
       "      <td>74</td>\n",
       "      <td>feminin</td>\n",
       "      <td>B</td>\n",
       "      <td>A</td>\n",
       "      <td>121</td>\n",
       "      <td>oui</td>\n",
       "      <td>2</td>\n",
       "      <td>absence</td>\n",
       "      <td>NaN</td>\n",
       "      <td>NaN</td>\n",
       "      <td>NaN</td>\n",
       "    </tr>\n",
       "  </tbody>\n",
       "</table>\n",
       "</div>"
      ],
      "text/plain": [
       "   age      sexe typedouleur sucre  tauxmax angine  depression coeur col9  \\\n",
       "0   70  masculin           D     A      109    non          24   presence   \n",
       "1   67   feminin           C     A      160    non          16    absence   \n",
       "2   57  masculin           B     A      141    non           3   presence   \n",
       "3   64  masculin           D     A      105    oui           2    absence   \n",
       "4   74   feminin           B     A      121    oui           2    absence   \n",
       "\n",
       "   col10  col11  col13  \n",
       "0    NaN    NaN    NaN  \n",
       "1    NaN    NaN    NaN  \n",
       "2    NaN    NaN    NaN  \n",
       "3    NaN    NaN    NaN  \n",
       "4    NaN    NaN    NaN  "
      ]
     },
     "execution_count": 125,
     "metadata": {},
     "output_type": "execute_result"
    }
   ],
   "source": [
    "# Accédez aux 5 premières valeurs de toutes les colonnes ? \n",
    "# lignes => 0:5 (0 à 5 [non inclus])\n",
    "# colonnes = : (toutes les colonnes)\n",
    "dt.iloc[0:5]"
   ]
  },
  {
   "cell_type": "code",
   "execution_count": 127,
   "metadata": {},
   "outputs": [
    {
     "data": {
      "text/html": [
       "<div>\n",
       "<style scoped>\n",
       "    .dataframe tbody tr th:only-of-type {\n",
       "        vertical-align: middle;\n",
       "    }\n",
       "\n",
       "    .dataframe tbody tr th {\n",
       "        vertical-align: top;\n",
       "    }\n",
       "\n",
       "    .dataframe thead th {\n",
       "        text-align: right;\n",
       "    }\n",
       "</style>\n",
       "<table border=\"1\" class=\"dataframe\">\n",
       "  <thead>\n",
       "    <tr style=\"text-align: right;\">\n",
       "      <th></th>\n",
       "      <th>age</th>\n",
       "      <th>sexe</th>\n",
       "      <th>typedouleur</th>\n",
       "      <th>sucre</th>\n",
       "      <th>tauxmax</th>\n",
       "      <th>angine</th>\n",
       "      <th>depression</th>\n",
       "      <th>coeur col9</th>\n",
       "      <th>col10</th>\n",
       "      <th>col11</th>\n",
       "      <th>col13</th>\n",
       "    </tr>\n",
       "  </thead>\n",
       "  <tbody>\n",
       "  </tbody>\n",
       "</table>\n",
       "</div>"
      ],
      "text/plain": [
       "Empty DataFrame\n",
       "Columns: [age, sexe, typedouleur, sucre, tauxmax, angine, depression, coeur col9, col10, col11, col13]\n",
       "Index: []"
      ]
     },
     "execution_count": 127,
     "metadata": {},
     "output_type": "execute_result"
    }
   ],
   "source": [
    "# Accéder aux 5 dernières lignes du df ? avec l'indiçage négatif, on le peut facilement \n",
    "dt.iloc[-5: 0]"
   ]
  },
  {
   "cell_type": "code",
   "execution_count": 128,
   "metadata": {},
   "outputs": [
    {
     "data": {
      "text/html": [
       "<div>\n",
       "<style scoped>\n",
       "    .dataframe tbody tr th:only-of-type {\n",
       "        vertical-align: middle;\n",
       "    }\n",
       "\n",
       "    .dataframe tbody tr th {\n",
       "        vertical-align: top;\n",
       "    }\n",
       "\n",
       "    .dataframe thead th {\n",
       "        text-align: right;\n",
       "    }\n",
       "</style>\n",
       "<table border=\"1\" class=\"dataframe\">\n",
       "  <thead>\n",
       "    <tr style=\"text-align: right;\">\n",
       "      <th></th>\n",
       "      <th>age</th>\n",
       "      <th>sexe</th>\n",
       "    </tr>\n",
       "  </thead>\n",
       "  <tbody>\n",
       "    <tr>\n",
       "      <th>0</th>\n",
       "      <td>70</td>\n",
       "      <td>masculin</td>\n",
       "    </tr>\n",
       "    <tr>\n",
       "      <th>1</th>\n",
       "      <td>67</td>\n",
       "      <td>feminin</td>\n",
       "    </tr>\n",
       "    <tr>\n",
       "      <th>2</th>\n",
       "      <td>57</td>\n",
       "      <td>masculin</td>\n",
       "    </tr>\n",
       "    <tr>\n",
       "      <th>3</th>\n",
       "      <td>64</td>\n",
       "      <td>masculin</td>\n",
       "    </tr>\n",
       "    <tr>\n",
       "      <th>4</th>\n",
       "      <td>74</td>\n",
       "      <td>feminin</td>\n",
       "    </tr>\n",
       "  </tbody>\n",
       "</table>\n",
       "</div>"
      ],
      "text/plain": [
       "   age      sexe\n",
       "0   70  masculin\n",
       "1   67   feminin\n",
       "2   57  masculin\n",
       "3   64  masculin\n",
       "4   74   feminin"
      ]
     },
     "execution_count": 128,
     "metadata": {},
     "output_type": "execute_result"
    }
   ],
   "source": [
    "# Accédez aux 5 premières lignes et deux premières colonnes ? \n",
    "dt.iloc[0:5, 0:2]"
   ]
  },
  {
   "cell_type": "code",
   "execution_count": 132,
   "metadata": {},
   "outputs": [
    {
     "data": {
      "text/html": [
       "<div>\n",
       "<style scoped>\n",
       "    .dataframe tbody tr th:only-of-type {\n",
       "        vertical-align: middle;\n",
       "    }\n",
       "\n",
       "    .dataframe tbody tr th {\n",
       "        vertical-align: top;\n",
       "    }\n",
       "\n",
       "    .dataframe thead th {\n",
       "        text-align: right;\n",
       "    }\n",
       "</style>\n",
       "<table border=\"1\" class=\"dataframe\">\n",
       "  <thead>\n",
       "    <tr style=\"text-align: right;\">\n",
       "      <th></th>\n",
       "      <th>age</th>\n",
       "      <th>sexe</th>\n",
       "      <th>tauxmax</th>\n",
       "    </tr>\n",
       "  </thead>\n",
       "  <tbody>\n",
       "    <tr>\n",
       "      <th>0</th>\n",
       "      <td>70</td>\n",
       "      <td>masculin</td>\n",
       "      <td>109</td>\n",
       "    </tr>\n",
       "    <tr>\n",
       "      <th>1</th>\n",
       "      <td>67</td>\n",
       "      <td>feminin</td>\n",
       "      <td>160</td>\n",
       "    </tr>\n",
       "    <tr>\n",
       "      <th>2</th>\n",
       "      <td>57</td>\n",
       "      <td>masculin</td>\n",
       "      <td>141</td>\n",
       "    </tr>\n",
       "    <tr>\n",
       "      <th>3</th>\n",
       "      <td>64</td>\n",
       "      <td>masculin</td>\n",
       "      <td>105</td>\n",
       "    </tr>\n",
       "    <tr>\n",
       "      <th>4</th>\n",
       "      <td>74</td>\n",
       "      <td>feminin</td>\n",
       "      <td>121</td>\n",
       "    </tr>\n",
       "  </tbody>\n",
       "</table>\n",
       "</div>"
      ],
      "text/plain": [
       "   age      sexe  tauxmax\n",
       "0   70  masculin      109\n",
       "1   67   feminin      160\n",
       "2   57  masculin      141\n",
       "3   64  masculin      105\n",
       "4   74   feminin      121"
      ]
     },
     "execution_count": 132,
     "metadata": {},
     "output_type": "execute_result"
    }
   ],
   "source": [
    "# Accédez aux 5 1è lignes et colonnes 0, 1 et 4 ? \n",
    "# indice : on a une liste d'indices en colonne\n",
    "dt.iloc[0:5, [0,1,4]]\n"
   ]
  },
  {
   "cell_type": "code",
   "execution_count": 135,
   "metadata": {},
   "outputs": [
    {
     "data": {
      "text/html": [
       "<div>\n",
       "<style scoped>\n",
       "    .dataframe tbody tr th:only-of-type {\n",
       "        vertical-align: middle;\n",
       "    }\n",
       "\n",
       "    .dataframe tbody tr th {\n",
       "        vertical-align: top;\n",
       "    }\n",
       "\n",
       "    .dataframe thead th {\n",
       "        text-align: right;\n",
       "    }\n",
       "</style>\n",
       "<table border=\"1\" class=\"dataframe\">\n",
       "  <thead>\n",
       "    <tr style=\"text-align: right;\">\n",
       "      <th></th>\n",
       "      <th>age</th>\n",
       "      <th>sexe</th>\n",
       "      <th>typedouleur</th>\n",
       "      <th>sucre</th>\n",
       "      <th>tauxmax</th>\n",
       "      <th>angine</th>\n",
       "      <th>depression</th>\n",
       "      <th>coeur col9</th>\n",
       "      <th>col10</th>\n",
       "      <th>col11</th>\n",
       "      <th>col13</th>\n",
       "    </tr>\n",
       "  </thead>\n",
       "  <tbody>\n",
       "    <tr>\n",
       "      <th>0</th>\n",
       "      <td>70</td>\n",
       "      <td>masculin</td>\n",
       "      <td>D</td>\n",
       "      <td>A</td>\n",
       "      <td>109</td>\n",
       "      <td>non</td>\n",
       "      <td>24</td>\n",
       "      <td>presence</td>\n",
       "      <td>NaN</td>\n",
       "      <td>NaN</td>\n",
       "      <td>NaN</td>\n",
       "    </tr>\n",
       "    <tr>\n",
       "      <th>2</th>\n",
       "      <td>57</td>\n",
       "      <td>masculin</td>\n",
       "      <td>B</td>\n",
       "      <td>A</td>\n",
       "      <td>141</td>\n",
       "      <td>non</td>\n",
       "      <td>3</td>\n",
       "      <td>presence</td>\n",
       "      <td>NaN</td>\n",
       "      <td>NaN</td>\n",
       "      <td>NaN</td>\n",
       "    </tr>\n",
       "    <tr>\n",
       "      <th>4</th>\n",
       "      <td>74</td>\n",
       "      <td>feminin</td>\n",
       "      <td>B</td>\n",
       "      <td>A</td>\n",
       "      <td>121</td>\n",
       "      <td>oui</td>\n",
       "      <td>2</td>\n",
       "      <td>absence</td>\n",
       "      <td>NaN</td>\n",
       "      <td>NaN</td>\n",
       "      <td>NaN</td>\n",
       "    </tr>\n",
       "  </tbody>\n",
       "</table>\n",
       "</div>"
      ],
      "text/plain": [
       "   age      sexe typedouleur sucre  tauxmax angine  depression coeur col9  \\\n",
       "0   70  masculin           D     A      109    non          24   presence   \n",
       "2   57  masculin           B     A      141    non           3   presence   \n",
       "4   74   feminin           B     A      121    oui           2    absence   \n",
       "\n",
       "   col10  col11  col13  \n",
       "0    NaN    NaN    NaN  \n",
       "2    NaN    NaN    NaN  \n",
       "4    NaN    NaN    NaN  "
      ]
     },
     "execution_count": 135,
     "metadata": {},
     "output_type": "execute_result"
    }
   ],
   "source": [
    "# faites la même chose autrement ?\n",
    "# indice : remarquez le rôle de 2 dans 0:5:2\n",
    "dt.iloc[0:5:2]"
   ]
  },
  {
   "cell_type": "markdown",
   "metadata": {
    "collapsed": true
   },
   "source": [
    "## Restrictions avec les conditions - Les requêtes\n",
    "\n",
    "Nous pouvons isoler les sous-ensembles d'observations répondant à des critères définis sur les champs. Nous utiliserons préférentiellement la méthode .loc[,] dans ce cadre."
   ]
  },
  {
   "cell_type": "code",
   "execution_count": 143,
   "metadata": {},
   "outputs": [
    {
     "data": {
      "text/html": [
       "<div>\n",
       "<style scoped>\n",
       "    .dataframe tbody tr th:only-of-type {\n",
       "        vertical-align: middle;\n",
       "    }\n",
       "\n",
       "    .dataframe tbody tr th {\n",
       "        vertical-align: top;\n",
       "    }\n",
       "\n",
       "    .dataframe thead th {\n",
       "        text-align: right;\n",
       "    }\n",
       "</style>\n",
       "<table border=\"1\" class=\"dataframe\">\n",
       "  <thead>\n",
       "    <tr style=\"text-align: right;\">\n",
       "      <th></th>\n",
       "      <th>age</th>\n",
       "      <th>sexe</th>\n",
       "      <th>typedouleur</th>\n",
       "      <th>sucre</th>\n",
       "      <th>tauxmax</th>\n",
       "      <th>angine</th>\n",
       "      <th>depression</th>\n",
       "      <th>coeur col9</th>\n",
       "      <th>col10</th>\n",
       "      <th>col11</th>\n",
       "      <th>col13</th>\n",
       "    </tr>\n",
       "  </thead>\n",
       "  <tbody>\n",
       "    <tr>\n",
       "      <th>13</th>\n",
       "      <td>61</td>\n",
       "      <td>masculin</td>\n",
       "      <td>A</td>\n",
       "      <td>A</td>\n",
       "      <td>145</td>\n",
       "      <td>non</td>\n",
       "      <td>26</td>\n",
       "      <td>presence</td>\n",
       "      <td>NaN</td>\n",
       "      <td>NaN</td>\n",
       "      <td>NaN</td>\n",
       "    </tr>\n",
       "    <tr>\n",
       "      <th>18</th>\n",
       "      <td>64</td>\n",
       "      <td>masculin</td>\n",
       "      <td>A</td>\n",
       "      <td>A</td>\n",
       "      <td>144</td>\n",
       "      <td>oui</td>\n",
       "      <td>18</td>\n",
       "      <td>absence</td>\n",
       "      <td>NaN</td>\n",
       "      <td>NaN</td>\n",
       "      <td>NaN</td>\n",
       "    </tr>\n",
       "    <tr>\n",
       "      <th>19</th>\n",
       "      <td>40</td>\n",
       "      <td>masculin</td>\n",
       "      <td>A</td>\n",
       "      <td>A</td>\n",
       "      <td>178</td>\n",
       "      <td>oui</td>\n",
       "      <td>14</td>\n",
       "      <td>absence</td>\n",
       "      <td>NaN</td>\n",
       "      <td>NaN</td>\n",
       "      <td>NaN</td>\n",
       "    </tr>\n",
       "    <tr>\n",
       "      <th>37</th>\n",
       "      <td>59</td>\n",
       "      <td>masculin</td>\n",
       "      <td>A</td>\n",
       "      <td>A</td>\n",
       "      <td>125</td>\n",
       "      <td>non</td>\n",
       "      <td>0</td>\n",
       "      <td>presence</td>\n",
       "      <td>NaN</td>\n",
       "      <td>NaN</td>\n",
       "      <td>NaN</td>\n",
       "    </tr>\n",
       "    <tr>\n",
       "      <th>63</th>\n",
       "      <td>60</td>\n",
       "      <td>feminin</td>\n",
       "      <td>A</td>\n",
       "      <td>A</td>\n",
       "      <td>171</td>\n",
       "      <td>non</td>\n",
       "      <td>9</td>\n",
       "      <td>absence</td>\n",
       "      <td>NaN</td>\n",
       "      <td>NaN</td>\n",
       "      <td>NaN</td>\n",
       "    </tr>\n",
       "    <tr>\n",
       "      <th>...</th>\n",
       "      <td>...</td>\n",
       "      <td>...</td>\n",
       "      <td>...</td>\n",
       "      <td>...</td>\n",
       "      <td>...</td>\n",
       "      <td>...</td>\n",
       "      <td>...</td>\n",
       "      <td>...</td>\n",
       "      <td>...</td>\n",
       "      <td>...</td>\n",
       "      <td>...</td>\n",
       "    </tr>\n",
       "    <tr>\n",
       "      <th>198</th>\n",
       "      <td>69</td>\n",
       "      <td>feminin</td>\n",
       "      <td>A</td>\n",
       "      <td>A</td>\n",
       "      <td>151</td>\n",
       "      <td>non</td>\n",
       "      <td>18</td>\n",
       "      <td>absence</td>\n",
       "      <td>NaN</td>\n",
       "      <td>NaN</td>\n",
       "      <td>NaN</td>\n",
       "    </tr>\n",
       "    <tr>\n",
       "      <th>205</th>\n",
       "      <td>52</td>\n",
       "      <td>masculin</td>\n",
       "      <td>A</td>\n",
       "      <td>B</td>\n",
       "      <td>178</td>\n",
       "      <td>non</td>\n",
       "      <td>12</td>\n",
       "      <td>absence</td>\n",
       "      <td>NaN</td>\n",
       "      <td>NaN</td>\n",
       "      <td>NaN</td>\n",
       "    </tr>\n",
       "    <tr>\n",
       "      <th>210</th>\n",
       "      <td>59</td>\n",
       "      <td>masculin</td>\n",
       "      <td>A</td>\n",
       "      <td>A</td>\n",
       "      <td>159</td>\n",
       "      <td>non</td>\n",
       "      <td>2</td>\n",
       "      <td>presence</td>\n",
       "      <td>NaN</td>\n",
       "      <td>NaN</td>\n",
       "      <td>NaN</td>\n",
       "    </tr>\n",
       "    <tr>\n",
       "      <th>228</th>\n",
       "      <td>58</td>\n",
       "      <td>feminin</td>\n",
       "      <td>A</td>\n",
       "      <td>B</td>\n",
       "      <td>162</td>\n",
       "      <td>non</td>\n",
       "      <td>10</td>\n",
       "      <td>absence</td>\n",
       "      <td>NaN</td>\n",
       "      <td>NaN</td>\n",
       "      <td>NaN</td>\n",
       "    </tr>\n",
       "    <tr>\n",
       "      <th>229</th>\n",
       "      <td>52</td>\n",
       "      <td>masculin</td>\n",
       "      <td>A</td>\n",
       "      <td>A</td>\n",
       "      <td>190</td>\n",
       "      <td>non</td>\n",
       "      <td>0</td>\n",
       "      <td>absence</td>\n",
       "      <td>NaN</td>\n",
       "      <td>NaN</td>\n",
       "      <td>NaN</td>\n",
       "    </tr>\n",
       "  </tbody>\n",
       "</table>\n",
       "<p>20 rows × 11 columns</p>\n",
       "</div>"
      ],
      "text/plain": [
       "     age      sexe typedouleur sucre  tauxmax angine  depression coeur col9  \\\n",
       "13    61  masculin           A     A      145    non          26   presence   \n",
       "18    64  masculin           A     A      144    oui          18    absence   \n",
       "19    40  masculin           A     A      178    oui          14    absence   \n",
       "37    59  masculin           A     A      125    non           0   presence   \n",
       "63    60   feminin           A     A      171    non           9    absence   \n",
       "..   ...       ...         ...   ...      ...    ...         ...        ...   \n",
       "198   69   feminin           A     A      151    non          18    absence   \n",
       "205   52  masculin           A     B      178    non          12    absence   \n",
       "210   59  masculin           A     A      159    non           2   presence   \n",
       "228   58   feminin           A     B      162    non          10    absence   \n",
       "229   52  masculin           A     A      190    non           0    absence   \n",
       "\n",
       "     col10  col11  col13  \n",
       "13     NaN    NaN    NaN  \n",
       "18     NaN    NaN    NaN  \n",
       "19     NaN    NaN    NaN  \n",
       "37     NaN    NaN    NaN  \n",
       "63     NaN    NaN    NaN  \n",
       "..     ...    ...    ...  \n",
       "198    NaN    NaN    NaN  \n",
       "205    NaN    NaN    NaN  \n",
       "210    NaN    NaN    NaN  \n",
       "228    NaN    NaN    NaN  \n",
       "229    NaN    NaN    NaN  \n",
       "\n",
       "[20 rows x 11 columns]"
      ]
     },
     "execution_count": 143,
     "metadata": {},
     "output_type": "execute_result"
    }
   ],
   "source": [
    "# Listez les individus présentant une douleur de type A\n",
    "dt.loc[dt['typedouleur'] == \"A\"]"
   ]
  },
  {
   "cell_type": "code",
   "execution_count": 138,
   "metadata": {},
   "outputs": [
    {
     "name": "stdout",
     "output_type": "stream",
     "text": [
      "0      False\n",
      "1      False\n",
      "2      False\n",
      "3      False\n",
      "4      False\n",
      "       ...  \n",
      "265    False\n",
      "266    False\n",
      "267    False\n",
      "268    False\n",
      "269    False\n",
      "Name: typedouleur, Length: 270, dtype: bool\n"
     ]
    }
   ],
   "source": [
    "# Nous constatons que l'on indexe avec un vecteur de booléens si on va dans le détail. En effet,\n",
    "print(dt['typedouleur'] == \"A\")"
   ]
  },
  {
   "cell_type": "markdown",
   "metadata": {},
   "source": [
    "Seules les observations correspondant à True sont repris par .loc[,]. Nous pouvons les comptabiliser :"
   ]
  },
  {
   "cell_type": "code",
   "execution_count": 139,
   "metadata": {},
   "outputs": [
    {
     "data": {
      "text/plain": [
       "20"
      ]
     },
     "execution_count": 139,
     "metadata": {},
     "output_type": "execute_result"
    }
   ],
   "source": [
    "# Comptez le nombre d'individus qui présente une douleur de type \"A\" ? \n",
    "dt[dt['typedouleur'] == \"A\"].shape[0]\n"
   ]
  },
  {
   "cell_type": "code",
   "execution_count": 140,
   "metadata": {},
   "outputs": [
    {
     "name": "stdout",
     "output_type": "stream",
     "text": [
      "     age      sexe typedouleur sucre  tauxmax angine  depression coeur col9  \\\n",
      "2     57  masculin           B     A      141    non           3   presence   \n",
      "4     74   feminin           B     A      121    oui           2    absence   \n",
      "13    61  masculin           A     A      145    non          26   presence   \n",
      "18    64  masculin           A     A      144    oui          18    absence   \n",
      "19    40  masculin           A     A      178    oui          14    absence   \n",
      "..   ...       ...         ...   ...      ...    ...         ...        ...   \n",
      "262   58  masculin           B     A      160    non          18   presence   \n",
      "263   49  masculin           B     A      171    non           6    absence   \n",
      "264   48  masculin           B     A      168    non          10   presence   \n",
      "266   44  masculin           B     A      173    non           0    absence   \n",
      "267   56   feminin           B     A      153    non          13    absence   \n",
      "\n",
      "     col10  col11  col13  \n",
      "2      NaN    NaN    NaN  \n",
      "4      NaN    NaN    NaN  \n",
      "13     NaN    NaN    NaN  \n",
      "18     NaN    NaN    NaN  \n",
      "19     NaN    NaN    NaN  \n",
      "..     ...    ...    ...  \n",
      "262    NaN    NaN    NaN  \n",
      "263    NaN    NaN    NaN  \n",
      "264    NaN    NaN    NaN  \n",
      "266    NaN    NaN    NaN  \n",
      "267    NaN    NaN    NaN  \n",
      "\n",
      "[62 rows x 11 columns]\n"
     ]
    }
   ],
   "source": [
    "# pour un ensemble de valeurs de la même variable,\n",
    "# nous utilisons isin()\n",
    "print(dt.loc[dt['typedouleur'].isin(['A','B']),:])"
   ]
  },
  {
   "cell_type": "markdown",
   "metadata": {},
   "source": [
    "Des opérateurs logiques permettent de combiner les conditions. Nous utilisons respectivement : & pour ET, | pour OU, et ~ pour la négation."
   ]
  },
  {
   "cell_type": "code",
   "execution_count": 145,
   "metadata": {},
   "outputs": [
    {
     "data": {
      "text/html": [
       "<div>\n",
       "<style scoped>\n",
       "    .dataframe tbody tr th:only-of-type {\n",
       "        vertical-align: middle;\n",
       "    }\n",
       "\n",
       "    .dataframe tbody tr th {\n",
       "        vertical-align: top;\n",
       "    }\n",
       "\n",
       "    .dataframe thead th {\n",
       "        text-align: right;\n",
       "    }\n",
       "</style>\n",
       "<table border=\"1\" class=\"dataframe\">\n",
       "  <thead>\n",
       "    <tr style=\"text-align: right;\">\n",
       "      <th></th>\n",
       "      <th>age</th>\n",
       "      <th>sexe</th>\n",
       "      <th>typedouleur</th>\n",
       "      <th>sucre</th>\n",
       "      <th>tauxmax</th>\n",
       "      <th>angine</th>\n",
       "      <th>depression</th>\n",
       "      <th>coeur col9</th>\n",
       "      <th>col10</th>\n",
       "      <th>col11</th>\n",
       "      <th>col13</th>\n",
       "    </tr>\n",
       "  </thead>\n",
       "  <tbody>\n",
       "    <tr>\n",
       "      <th>18</th>\n",
       "      <td>64</td>\n",
       "      <td>masculin</td>\n",
       "      <td>A</td>\n",
       "      <td>A</td>\n",
       "      <td>144</td>\n",
       "      <td>oui</td>\n",
       "      <td>18</td>\n",
       "      <td>absence</td>\n",
       "      <td>NaN</td>\n",
       "      <td>NaN</td>\n",
       "      <td>NaN</td>\n",
       "    </tr>\n",
       "    <tr>\n",
       "      <th>19</th>\n",
       "      <td>40</td>\n",
       "      <td>masculin</td>\n",
       "      <td>A</td>\n",
       "      <td>A</td>\n",
       "      <td>178</td>\n",
       "      <td>oui</td>\n",
       "      <td>14</td>\n",
       "      <td>absence</td>\n",
       "      <td>NaN</td>\n",
       "      <td>NaN</td>\n",
       "      <td>NaN</td>\n",
       "    </tr>\n",
       "    <tr>\n",
       "      <th>143</th>\n",
       "      <td>51</td>\n",
       "      <td>masculin</td>\n",
       "      <td>A</td>\n",
       "      <td>A</td>\n",
       "      <td>125</td>\n",
       "      <td>oui</td>\n",
       "      <td>14</td>\n",
       "      <td>absence</td>\n",
       "      <td>NaN</td>\n",
       "      <td>NaN</td>\n",
       "      <td>NaN</td>\n",
       "    </tr>\n",
       "    <tr>\n",
       "      <th>160</th>\n",
       "      <td>38</td>\n",
       "      <td>masculin</td>\n",
       "      <td>A</td>\n",
       "      <td>A</td>\n",
       "      <td>182</td>\n",
       "      <td>oui</td>\n",
       "      <td>38</td>\n",
       "      <td>presence</td>\n",
       "      <td>NaN</td>\n",
       "      <td>NaN</td>\n",
       "      <td>NaN</td>\n",
       "    </tr>\n",
       "  </tbody>\n",
       "</table>\n",
       "</div>"
      ],
      "text/plain": [
       "     age      sexe typedouleur sucre  tauxmax angine  depression coeur col9  \\\n",
       "18    64  masculin           A     A      144    oui          18    absence   \n",
       "19    40  masculin           A     A      178    oui          14    absence   \n",
       "143   51  masculin           A     A      125    oui          14    absence   \n",
       "160   38  masculin           A     A      182    oui          38   presence   \n",
       "\n",
       "     col10  col11  col13  \n",
       "18     NaN    NaN    NaN  \n",
       "19     NaN    NaN    NaN  \n",
       "143    NaN    NaN    NaN  \n",
       "160    NaN    NaN    NaN  "
      ]
     },
     "execution_count": 145,
     "metadata": {},
     "output_type": "execute_result"
    }
   ],
   "source": [
    "# Listez les individus présentant une douleur de type A et angine == oui ? \n",
    "dt.loc[(dt['typedouleur'] == 'A') & (dt['angine'] == 'oui')]"
   ]
  },
  {
   "cell_type": "code",
   "execution_count": 146,
   "metadata": {},
   "outputs": [
    {
     "data": {
      "text/html": [
       "<div>\n",
       "<style scoped>\n",
       "    .dataframe tbody tr th:only-of-type {\n",
       "        vertical-align: middle;\n",
       "    }\n",
       "\n",
       "    .dataframe tbody tr th {\n",
       "        vertical-align: top;\n",
       "    }\n",
       "\n",
       "    .dataframe thead th {\n",
       "        text-align: right;\n",
       "    }\n",
       "</style>\n",
       "<table border=\"1\" class=\"dataframe\">\n",
       "  <thead>\n",
       "    <tr style=\"text-align: right;\">\n",
       "      <th></th>\n",
       "      <th>age</th>\n",
       "      <th>sexe</th>\n",
       "      <th>typedouleur</th>\n",
       "      <th>sucre</th>\n",
       "      <th>tauxmax</th>\n",
       "      <th>angine</th>\n",
       "      <th>depression</th>\n",
       "      <th>coeur col9</th>\n",
       "      <th>col10</th>\n",
       "      <th>col11</th>\n",
       "      <th>col13</th>\n",
       "    </tr>\n",
       "  </thead>\n",
       "  <tbody>\n",
       "    <tr>\n",
       "      <th>40</th>\n",
       "      <td>40</td>\n",
       "      <td>masculin</td>\n",
       "      <td>D</td>\n",
       "      <td>A</td>\n",
       "      <td>181</td>\n",
       "      <td>non</td>\n",
       "      <td>0</td>\n",
       "      <td>presence</td>\n",
       "      <td>NaN</td>\n",
       "      <td>NaN</td>\n",
       "      <td>NaN</td>\n",
       "    </tr>\n",
       "    <tr>\n",
       "      <th>47</th>\n",
       "      <td>44</td>\n",
       "      <td>masculin</td>\n",
       "      <td>D</td>\n",
       "      <td>A</td>\n",
       "      <td>177</td>\n",
       "      <td>non</td>\n",
       "      <td>0</td>\n",
       "      <td>presence</td>\n",
       "      <td>NaN</td>\n",
       "      <td>NaN</td>\n",
       "      <td>NaN</td>\n",
       "    </tr>\n",
       "    <tr>\n",
       "      <th>50</th>\n",
       "      <td>42</td>\n",
       "      <td>masculin</td>\n",
       "      <td>D</td>\n",
       "      <td>A</td>\n",
       "      <td>125</td>\n",
       "      <td>oui</td>\n",
       "      <td>18</td>\n",
       "      <td>presence</td>\n",
       "      <td>NaN</td>\n",
       "      <td>NaN</td>\n",
       "      <td>NaN</td>\n",
       "    </tr>\n",
       "    <tr>\n",
       "      <th>81</th>\n",
       "      <td>35</td>\n",
       "      <td>masculin</td>\n",
       "      <td>D</td>\n",
       "      <td>A</td>\n",
       "      <td>130</td>\n",
       "      <td>oui</td>\n",
       "      <td>16</td>\n",
       "      <td>presence</td>\n",
       "      <td>NaN</td>\n",
       "      <td>NaN</td>\n",
       "      <td>NaN</td>\n",
       "    </tr>\n",
       "    <tr>\n",
       "      <th>147</th>\n",
       "      <td>40</td>\n",
       "      <td>masculin</td>\n",
       "      <td>D</td>\n",
       "      <td>A</td>\n",
       "      <td>114</td>\n",
       "      <td>oui</td>\n",
       "      <td>20</td>\n",
       "      <td>presence</td>\n",
       "      <td>NaN</td>\n",
       "      <td>NaN</td>\n",
       "      <td>NaN</td>\n",
       "    </tr>\n",
       "    <tr>\n",
       "      <th>...</th>\n",
       "      <td>...</td>\n",
       "      <td>...</td>\n",
       "      <td>...</td>\n",
       "      <td>...</td>\n",
       "      <td>...</td>\n",
       "      <td>...</td>\n",
       "      <td>...</td>\n",
       "      <td>...</td>\n",
       "      <td>...</td>\n",
       "      <td>...</td>\n",
       "      <td>...</td>\n",
       "    </tr>\n",
       "    <tr>\n",
       "      <th>182</th>\n",
       "      <td>41</td>\n",
       "      <td>masculin</td>\n",
       "      <td>D</td>\n",
       "      <td>A</td>\n",
       "      <td>158</td>\n",
       "      <td>non</td>\n",
       "      <td>0</td>\n",
       "      <td>presence</td>\n",
       "      <td>NaN</td>\n",
       "      <td>NaN</td>\n",
       "      <td>NaN</td>\n",
       "    </tr>\n",
       "    <tr>\n",
       "      <th>193</th>\n",
       "      <td>35</td>\n",
       "      <td>masculin</td>\n",
       "      <td>D</td>\n",
       "      <td>A</td>\n",
       "      <td>156</td>\n",
       "      <td>oui</td>\n",
       "      <td>0</td>\n",
       "      <td>presence</td>\n",
       "      <td>NaN</td>\n",
       "      <td>NaN</td>\n",
       "      <td>NaN</td>\n",
       "    </tr>\n",
       "    <tr>\n",
       "      <th>231</th>\n",
       "      <td>39</td>\n",
       "      <td>masculin</td>\n",
       "      <td>D</td>\n",
       "      <td>A</td>\n",
       "      <td>140</td>\n",
       "      <td>non</td>\n",
       "      <td>12</td>\n",
       "      <td>presence</td>\n",
       "      <td>NaN</td>\n",
       "      <td>NaN</td>\n",
       "      <td>NaN</td>\n",
       "    </tr>\n",
       "    <tr>\n",
       "      <th>237</th>\n",
       "      <td>43</td>\n",
       "      <td>masculin</td>\n",
       "      <td>D</td>\n",
       "      <td>A</td>\n",
       "      <td>120</td>\n",
       "      <td>oui</td>\n",
       "      <td>25</td>\n",
       "      <td>presence</td>\n",
       "      <td>NaN</td>\n",
       "      <td>NaN</td>\n",
       "      <td>NaN</td>\n",
       "    </tr>\n",
       "    <tr>\n",
       "      <th>252</th>\n",
       "      <td>44</td>\n",
       "      <td>masculin</td>\n",
       "      <td>D</td>\n",
       "      <td>A</td>\n",
       "      <td>153</td>\n",
       "      <td>non</td>\n",
       "      <td>0</td>\n",
       "      <td>presence</td>\n",
       "      <td>NaN</td>\n",
       "      <td>NaN</td>\n",
       "      <td>NaN</td>\n",
       "    </tr>\n",
       "  </tbody>\n",
       "</table>\n",
       "<p>11 rows × 11 columns</p>\n",
       "</div>"
      ],
      "text/plain": [
       "     age      sexe typedouleur sucre  tauxmax angine  depression coeur col9  \\\n",
       "40    40  masculin           D     A      181    non           0   presence   \n",
       "47    44  masculin           D     A      177    non           0   presence   \n",
       "50    42  masculin           D     A      125    oui          18   presence   \n",
       "81    35  masculin           D     A      130    oui          16   presence   \n",
       "147   40  masculin           D     A      114    oui          20   presence   \n",
       "..   ...       ...         ...   ...      ...    ...         ...        ...   \n",
       "182   41  masculin           D     A      158    non           0   presence   \n",
       "193   35  masculin           D     A      156    oui           0   presence   \n",
       "231   39  masculin           D     A      140    non          12   presence   \n",
       "237   43  masculin           D     A      120    oui          25   presence   \n",
       "252   44  masculin           D     A      153    non           0   presence   \n",
       "\n",
       "     col10  col11  col13  \n",
       "40     NaN    NaN    NaN  \n",
       "47     NaN    NaN    NaN  \n",
       "50     NaN    NaN    NaN  \n",
       "81     NaN    NaN    NaN  \n",
       "147    NaN    NaN    NaN  \n",
       "..     ...    ...    ...  \n",
       "182    NaN    NaN    NaN  \n",
       "193    NaN    NaN    NaN  \n",
       "231    NaN    NaN    NaN  \n",
       "237    NaN    NaN    NaN  \n",
       "252    NaN    NaN    NaN  \n",
       "\n",
       "[11 rows x 11 columns]"
      ]
     },
     "execution_count": 146,
     "metadata": {},
     "output_type": "execute_result"
    }
   ],
   "source": [
    "# Liste les personnes de moins de 45 ans, de sexe masculin, présentant une maladie cardiaque ? \n",
    "dt.loc[(dt['age'] < 45) & (dt['sexe'] == 'masculin') & (dt['coeur col9'] == 'presence')]"
   ]
  },
  {
   "cell_type": "code",
   "execution_count": 147,
   "metadata": {},
   "outputs": [
    {
     "name": "stdout",
     "output_type": "stream",
     "text": [
      "     age      sexe coeur col9  tauxmax\n",
      "40    40  masculin   presence      181\n",
      "47    44  masculin   presence      177\n",
      "50    42  masculin   presence      125\n",
      "81    35  masculin   presence      130\n",
      "147   40  masculin   presence      114\n",
      "..   ...       ...        ...      ...\n",
      "182   41  masculin   presence      158\n",
      "193   35  masculin   presence      156\n",
      "231   39  masculin   presence      140\n",
      "237   43  masculin   presence      120\n",
      "252   44  masculin   presence      153\n",
      "\n",
      "[11 rows x 4 columns]\n"
     ]
    }
   ],
   "source": [
    "# On peut n'afficher qu'une partie des colonnes\n",
    "# On définit la projection dans une liste\n",
    "colonnes = ['age','sexe','coeur col9','tauxmax']\n",
    "# que l'on utilise en paramètre dans .loc[]\n",
    "# pour la même restruction que précédemment\n",
    "print(dt.loc[(dt['age'] < 45) & (dt['sexe'] == \"masculin\") & (dt['coeur col9'] == \"presence\"),colonnes])"
   ]
  },
  {
   "cell_type": "markdown",
   "metadata": {},
   "source": [
    "## Calculs récapitulatifs - Croisement des variables\n",
    "\n",
    "A la manière des tableaux croisés dynamiques (TCD) d'Excel, nous pouvons procéder à des croisements et opérer des calculs récapitulatifs, qui vont du comptage simple aux calculs statistiques mettent en jeu d'autres variables."
   ]
  },
  {
   "cell_type": "code",
   "execution_count": 151,
   "metadata": {},
   "outputs": [
    {
     "data": {
      "text/plain": [
       "sexe      coeur col9\n",
       "masculin  presence      100\n",
       "          absence        83\n",
       "feminin   absence        67\n",
       "          presence       20\n",
       "dtype: int64"
      ]
     },
     "execution_count": 151,
     "metadata": {},
     "output_type": "execute_result"
    }
   ],
   "source": [
    "# Fréquences selon sexe et coeur (tri croisé) ? \n",
    "# voir : http://pandas.pydata.org/pandas-docs/stable/generated/pandas.crosstab.html\n",
    "colonnes = ['sexe','coeur col9']\n",
    "dt[colonnes].value_counts()"
   ]
  },
  {
   "cell_type": "code",
   "execution_count": 155,
   "metadata": {},
   "outputs": [
    {
     "data": {
      "text/plain": [
       "sexe      coeur col9\n",
       "masculin  presence      37.037037\n",
       "          absence       30.740741\n",
       "feminin   absence       24.814815\n",
       "          presence       7.407407\n",
       "dtype: float64"
      ]
     },
     "execution_count": 155,
     "metadata": {},
     "output_type": "execute_result"
    }
   ],
   "source": [
    "# Le même tri croisé mais avec un pourcentage en ligne ?\n",
    "# indice : ns pouvons demander un post-traitement après la commande précedente !  \n",
    "dt[colonnes].value_counts(normalize=True) * 100"
   ]
  },
  {
   "cell_type": "code",
   "execution_count": 164,
   "metadata": {},
   "outputs": [
    {
     "data": {
      "text/plain": [
       "sexe      coeur col9\n",
       "feminin   absence       54.582090\n",
       "          presence      59.350000\n",
       "masculin  absence       51.192771\n",
       "          presence      56.040000\n",
       "Name: age, dtype: float64"
      ]
     },
     "execution_count": 164,
     "metadata": {},
     "output_type": "execute_result"
    }
   ],
   "source": [
    "# Calculez la moyenne d'âge selon le sexe et la maladie ? \n",
    "# indice : ns utilisons la fonction mean() de la classe Series de la librairie Pandas\n",
    "colonnes = ['sexe', 'coeur col9']\n",
    "dt.groupby(colonnes)['age'].mean()\n"
   ]
  },
  {
   "cell_type": "code",
   "execution_count": 165,
   "metadata": {},
   "outputs": [
    {
     "name": "stdout",
     "output_type": "stream",
     "text": [
      "                  age         \n",
      "coeur col9    absence presence\n",
      "sexe                          \n",
      "feminin     54.582090    59.35\n",
      "masculin    51.192771    56.04\n"
     ]
    }
   ],
   "source": [
    "# une autre manière de faire avec la commande pivot_table() pour exactement le même résultat\n",
    "print(dt.pivot_table(index=['sexe'],columns=['coeur col9'],values=['age'],aggfunc=pd.Series.mean))"
   ]
  },
  {
   "cell_type": "markdown",
   "metadata": {},
   "source": [
    "L'utilisation de groupby() permet d'accéder aux sous-DataFrame associés à chaque item de la variable de regroupement. Il est dès lors possible d'appliquer explicitement d'autres traitements sur ces sous-ensembles de données."
   ]
  },
  {
   "cell_type": "code",
   "execution_count": 166,
   "metadata": {},
   "outputs": [
    {
     "name": "stdout",
     "output_type": "stream",
     "text": [
      "<pandas.core.groupby.generic.DataFrameGroupBy object at 0x7f0283b8cfd0>\n",
      "(183, 11)\n"
     ]
    }
   ],
   "source": [
    "# Scission des données selon le sexe\n",
    "g = dt.groupby('sexe')\n",
    "print(g)\n",
    "# Calculer la dimension du sous-DataFrame associé aux hommes\n",
    "print(g.get_group('masculin').shape)"
   ]
  },
  {
   "cell_type": "code",
   "execution_count": 171,
   "metadata": {},
   "outputs": [
    {
     "data": {
      "text/plain": [
       "53.84153005464481"
      ]
     },
     "execution_count": 171,
     "metadata": {},
     "output_type": "execute_result"
    }
   ],
   "source": [
    "# Calculez la moyenne de l'âge chez les hommes.\n",
    "g = dt.groupby('sexe')\n",
    "g.get_group('masculin')['age'].mean()\n",
    "\n"
   ]
  },
  {
   "cell_type": "code",
   "execution_count": 172,
   "metadata": {},
   "outputs": [
    {
     "name": "stdout",
     "output_type": "stream",
     "text": [
      "                age           depression           \n",
      "               mean       std       mean        std\n",
      "sexe                                               \n",
      "feminin   55.678161  9.626144   8.885057  11.332630\n",
      "masculin  53.841530  8.818189  11.267760  11.459408\n"
     ]
    }
   ],
   "source": [
    "# On peut appliquer différentes fonctions\n",
    "# agg() permet de revenir sur quelque chose qui ressemble au crosstab()\n",
    "print(g[['age','depression']].agg([pd.Series.mean, pd.Series.std]))"
   ]
  },
  {
   "cell_type": "code",
   "execution_count": 175,
   "metadata": {},
   "outputs": [
    {
     "name": "stdout",
     "output_type": "stream",
     "text": [
      "feminin\n",
      "55.67816091954023\n",
      "masculin\n",
      "53.84153005464481\n"
     ]
    }
   ],
   "source": [
    "# Nous pouvons itérer sur les groupes\n",
    "for groupe in g:\n",
    "    # groupe est un tuple\n",
    "    print(groupe[0]) #étiquette du groupe\n",
    "    # accès à la variable 'age' du groupe concerné\n",
    "    print(pd.Series.mean(groupe[1]['age']))"
   ]
  },
  {
   "cell_type": "markdown",
   "metadata": {},
   "source": [
    "## Construction de variables calculées\n",
    "\n",
    "Les calculs sont vectorisés pour les vecteurs de type Series de Pandas. Ce qui évite de passer par des boucles fastidieuses pour manipuler les valeurs des vecteurs."
   ]
  },
  {
   "cell_type": "code",
   "execution_count": 42,
   "metadata": {},
   "outputs": [],
   "source": [
    "# Création d'une variable tauxnet (qui n'a aucune signification médicale)\n",
    "# Utilisation de la libraire numpy (log = logarithme népérien)\n"
   ]
  },
  {
   "cell_type": "code",
   "execution_count": 43,
   "metadata": {},
   "outputs": [],
   "source": [
    "# Ns cherchons à la concaténer au DataFrame\n"
   ]
  },
  {
   "cell_type": "markdown",
   "metadata": {},
   "source": [
    "La construction d'une variable ex-nihilo est également possible. Par ex., nous souhaitons créer une indicatrice pour la variable sexe, 1 pour masculin, 0 pour féminin."
   ]
  },
  {
   "cell_type": "code",
   "execution_count": 52,
   "metadata": {},
   "outputs": [
    {
     "name": "stdout",
     "output_type": "stream",
     "text": [
      "(270,)\n"
     ]
    }
   ],
   "source": [
    "# Création d'une Série de 0 de la même longueur\n",
    "# que notre DataFrame(nombre de lignes)\n",
    "# nous utilisons la méthode de numpy pour cela\n",
    "code = pandas.Series(numpy.zeros(df.shape[0]))\n",
    "print(code.shape)"
   ]
  },
  {
   "cell_type": "code",
   "execution_count": 53,
   "metadata": {},
   "outputs": [
    {
     "name": "stdout",
     "output_type": "stream",
     "text": [
      "1.0    183\n",
      "0.0     87\n",
      "dtype: int64\n"
     ]
    }
   ],
   "source": [
    "#les \"sexe = masculin\" sont codés 1\n",
    "#de fait, \"sexe = feminin\" est codé zéro puisque le \n",
    "#vecteur a préalablement été créé avec des valeurs 0\n",
    "code[df['sexe']=='masculin'] = 1\n",
    "print(code.value_counts())"
   ]
  },
  {
   "cell_type": "code",
   "execution_count": 54,
   "metadata": {},
   "outputs": [
    {
     "name": "stdout",
     "output_type": "stream",
     "text": [
      "1    183\n",
      "0     87\n",
      "Name: sexe, dtype: int64\n"
     ]
    }
   ],
   "source": [
    "#une autre solution plus simple, mais il faut connaître eq()\n",
    "codebis = df['sexe'].eq('masculin').astype('int')\n",
    "print(codebis.value_counts())"
   ]
  },
  {
   "cell_type": "markdown",
   "metadata": {},
   "source": [
    "## Graphiques\n",
    "\n",
    "Passer par matplotlib permet de réaliser des graphiques performants (http://matplotlib.org/). Mais il faut connaître les procédures de la librairie, ce qui nécessite un apprentissage supplémentaire qui n'est pas toujours évident.\n",
    "\n",
    "Heureusement, Pandas propose des commandes simples qui encapsulent l'appel à ces procédures et nous simplifie grandement la vie. Il faut importer matplotlib pour que l'ensemble fonctionne correctement."
   ]
  },
  {
   "cell_type": "code",
   "execution_count": 181,
   "metadata": {},
   "outputs": [
    {
     "name": "stdout",
     "output_type": "stream",
     "text": [
      "Collecting matplotlib\n",
      "  Using cached matplotlib-3.3.2-cp36-cp36m-manylinux1_x86_64.whl (11.6 MB)\n",
      "Collecting pillow>=6.2.0\n",
      "  Using cached Pillow-7.2.0-cp36-cp36m-manylinux1_x86_64.whl (2.2 MB)\n",
      "Requirement already satisfied: numpy>=1.15 in /usr/local/lib/python3.6/dist-packages (from matplotlib) (1.19.2)\n",
      "Requirement already satisfied: python-dateutil>=2.1 in /usr/lib/python3/dist-packages (from matplotlib) (2.6.1)\n",
      "Collecting certifi>=2020.06.20\n",
      "  Using cached certifi-2020.6.20-py2.py3-none-any.whl (156 kB)\n",
      "Requirement already satisfied: cycler>=0.10 in /usr/local/lib/python3.6/dist-packages (from matplotlib) (0.10.0)\n",
      "Requirement already satisfied: kiwisolver>=1.0.1 in /usr/local/lib/python3.6/dist-packages (from matplotlib) (1.2.0)\n",
      "Requirement already satisfied: pyparsing!=2.0.4,!=2.1.2,!=2.1.6,>=2.0.3 in /home/administrateur/.local/lib/python3.6/site-packages (from matplotlib) (2.4.7)\n",
      "Requirement already satisfied: six in /home/administrateur/.local/lib/python3.6/site-packages (from cycler>=0.10->matplotlib) (1.14.0)\n",
      "Installing collected packages: pillow, certifi, matplotlib\n",
      "  Attempting uninstall: pillow\n",
      "    Found existing installation: Pillow 5.1.0\n",
      "    Uninstalling Pillow-5.1.0:\n",
      "\u001b[31mERROR: Could not install packages due to an EnvironmentError: [Errno 13] Permission non accordée: 'XpmImagePlugin.py'\n",
      "Consider using the `--user` option or check the permissions.\n",
      "\u001b[0m\n"
     ]
    }
   ],
   "source": []
  },
  {
   "cell_type": "code",
   "execution_count": 182,
   "metadata": {},
   "outputs": [],
   "source": [
    "#indiquer que l'on veut voir apparaître les graphiques dans le notebook\n",
    "#/!\\ très important, sinon on ne verrait rien \n",
    "%matplotlib inline\n",
    "\n",
    "#importation de la librairie\n",
    "import matplotlib.pyplot as plt"
   ]
  },
  {
   "cell_type": "code",
   "execution_count": 187,
   "metadata": {},
   "outputs": [
    {
     "data": {
      "text/plain": [
       "Text(0.5, 1.0, 'Histogram of Age')"
      ]
     },
     "execution_count": 187,
     "metadata": {},
     "output_type": "execute_result"
    },
    {
     "data": {
      "image/png": "[encoded data removed]",
      "text/plain": [
       "<Figure size 432x288 with 1 Axes>"
      ]
     },
     "metadata": {
      "needs_background": "light"
     },
     "output_type": "display_data"
    }
   ],
   "source": [
    "# Tracer 1histogramme de l'âge ? \n",
    "dt.hist(column='age', color='cyan', edgecolor='black')\n",
    "plt.title('Histogram of Age')"
   ]
  },
  {
   "cell_type": "code",
   "execution_count": 45,
   "metadata": {},
   "outputs": [],
   "source": [
    "# Tracer 1density plot ? "
   ]
  },
  {
   "cell_type": "code",
   "execution_count": 200,
   "metadata": {},
   "outputs": [
    {
     "data": {
      "text/plain": [
       "<matplotlib.legend.Legend at 0x7f0284434da0>"
      ]
     },
     "execution_count": 200,
     "metadata": {},
     "output_type": "execute_result"
    },
    {
     "data": {
      "image/png": "[encoded data removed]",
      "text/plain": [
       "<Figure size 432x288 with 1 Axes>"
      ]
     },
     "metadata": {
      "needs_background": "light"
     },
     "output_type": "display_data"
    }
   ],
   "source": [
    "# Tracer l'histogramme de l'âge selon le sexe ? \n",
    "bins = [x + 0.5 for x in range(0, 6)]\n",
    "plt.hist([dt['sexe'], dt['age']], bins=bins, color = ['yellow', 'green'],\n",
    "            edgecolor = 'red', hatch = '/', label = ['x1', 'x2'],\n",
    "            histtype = 'bar') # bar est le defaut\n",
    "plt.ylabel('valeurs')\n",
    "plt.xlabel('nombres')\n",
    "plt.title('2 series')\n",
    "plt.legend()"
   ]
  },
  {
   "cell_type": "code",
   "execution_count": 47,
   "metadata": {},
   "outputs": [],
   "source": [
    "# Comparaison des distributions avec un boxplot ? "
   ]
  },
  {
   "cell_type": "code",
   "execution_count": 48,
   "metadata": {},
   "outputs": [],
   "source": [
    "# Tracer 1scatterplot : age vs. tauxmax ? "
   ]
  },
  {
   "cell_type": "code",
   "execution_count": 49,
   "metadata": {},
   "outputs": [],
   "source": [
    "# Tracer 1scatterplot (age vs. tauxmax) en distinguant les points ? \n",
    "# (niveau de gris) selon les valeurs de dépression"
   ]
  },
  {
   "cell_type": "code",
   "execution_count": 51,
   "metadata": {},
   "outputs": [],
   "source": [
    "# Tracer 1 scatterplot (age vs. tauxmax) en distinguant les points selon les valeurs de coeur ? \n",
    "# indice : nécessite un recodage de coeur - ici en 0/1\n",
    "# afficher le graphique en spécifiant la couleur (blue = 0, green = 1)"
   ]
  },
  {
   "cell_type": "code",
   "execution_count": 52,
   "metadata": {},
   "outputs": [],
   "source": [
    "# Tracer 1diagramme à secteurs - comptage de sexe ? "
   ]
  },
  {
   "cell_type": "code",
   "execution_count": 53,
   "metadata": {},
   "outputs": [],
   "source": [
    "# TRacez le scatterplot des variables pris deux à deux\n",
    "# Cela n'a d'intérêt que pour les variables quantitatives bien évidemment"
   ]
  }
 ],
 "metadata": {
  "kernelspec": {
   "display_name": "Python 3",
   "language": "python",
   "name": "python3"
  },
  "language_info": {
   "codemirror_mode": {
    "name": "ipython",
    "version": 3
   },
   "file_extension": ".py",
   "mimetype": "text/x-python",
   "name": "python",
   "nbconvert_exporter": "python",
   "pygments_lexer": "ipython3",
   "version": "3.8.5"
  }
 },
 "nbformat": 4,
 "nbformat_minor": 2
}
